{
 "cells": [
  {
   "cell_type": "markdown",
   "id": "39d4c497",
   "metadata": {},
   "source": [
    "### Задача 2\n",
    "Випадкова величина X розподілена рівномірно. Знайти щільність її розподілу, якщо $P(X\\geq3)=0.4$, а математичне сподівання $M(X)=2$."
   ]
  },
  {
   "cell_type": "markdown",
   "id": "cf74e2d6",
   "metadata": {},
   "source": [
    "### Рішення\n",
    "Щильність рівномірного розподілу визначається формулами:\n",
    "\n",
    "$$f(x)=\\frac{1}{b-a};\\,\\,\\,\\,\\,\\, P(X)=\\int_x^b \\frac{1}{b-a}dx;\\,\\,\\,\\,\\,\\, M(X)=\\int_a^b \\frac{x}{b-a}dx$$\n",
    "\n",
    "Розпишемо систему рівнянь:\n",
    "\n",
    "$$\\begin{cases}\n",
    "   \\int_3^b \\frac{1}{b-a}dx=0.4;\\\\\n",
    "   \\int_a^b \\frac{x}{b-a}dx=2;\\\\\n",
    "   \\end{cases}\n",
    "$$\n",
    "$$\n",
    "   \\begin{cases}\n",
    "   \\frac{1}{b-a} \\vert_3^b=0.4;\\Rightarrow\\,\\,\\,\\, \\frac{b}{b-a}-\\frac{3}{b-a}=0.4\\,\\,\\,\\Rightarrow\\,\\,\\,\\, \\frac{b-3}{b-a}=0.4\\\\\n",
    "   \\frac{x}{b-a} \\vert_a^b=2; \\,\\,\\,\\, \\Rightarrow\\,\\,\\,\\, \\frac{b^2}{2(b-a)}-\\frac{a^2}{2(b-a)}=2\\Rightarrow\\,\\,\\,\\, \\frac{b+a}{2}=2\\\\\n",
    "   \\end{cases}\n",
    "$$\n",
    "$$\\begin{cases}\n",
    "   b-3=0.4(b-a);\\,\\,\\Rightarrow\\,\\,\\,\\, a=-3\\\\\n",
    "   a+b=4;\\,\\,\\,\\,\\,\\,\\,\\,\\,\\,\\,\\,\\,\\,\\,\\,\\,\\,\\,\\,\\,\\Rightarrow\\,\\,\\,\\, b=7\\\\\n",
    "   \\end{cases}\n",
    "$$\n",
    "\n",
    "$$f(x)=\\frac{1}{b-a}=\\frac{1}{7-(-3)}=0.1$$"
   ]
  },
  {
   "cell_type": "markdown",
   "id": "795f057b",
   "metadata": {},
   "source": [
    "### Відповідь\n",
    "\n",
    "$$f(x)=\n",
    "\\begin{cases}\n",
    "   =0;  \\,\\,\\,\\,\\,\\,\\,\\, якщо \\,\\,\\,x\\leq-3;\\\\\n",
    "   =0.1; \\,\\,\\,\\,\\, якщо \\,\\,\\,\\,-3< x \\leq7; \\\\\n",
    "   =0;  \\,\\,\\,\\,\\,\\,\\,\\,\\, якщо \\,\\,\\,\\, x > 7;\\\\\n",
    "   \\end{cases}\n",
    "$$"
   ]
  },
  {
   "cell_type": "code",
   "execution_count": null,
   "id": "941f03b8",
   "metadata": {},
   "outputs": [],
   "source": []
  }
 ],
 "metadata": {
  "kernelspec": {
   "display_name": "Python 3 (ipykernel)",
   "language": "python",
   "name": "python3"
  },
  "language_info": {
   "codemirror_mode": {
    "name": "ipython",
    "version": 3
   },
   "file_extension": ".py",
   "mimetype": "text/x-python",
   "name": "python",
   "nbconvert_exporter": "python",
   "pygments_lexer": "ipython3",
   "version": "3.10.8"
  }
 },
 "nbformat": 4,
 "nbformat_minor": 5
}
