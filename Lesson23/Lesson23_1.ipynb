{
 "cells": [
  {
   "cell_type": "markdown",
   "id": "d5321248",
   "metadata": {},
   "source": [
    "### Задача 1\n",
    "\n",
    "Прилад містить 7 елементів з яких 3 зношені. При включенні приладу випадковим чином включаються три елементи. Знайти ймовірність того, що при цьому виявляться включеними два незношених елементи."
   ]
  },
  {
   "cell_type": "markdown",
   "id": "bd28845a",
   "metadata": {},
   "source": [
    "### Рішення.\n",
    "Використаємо основну формулу теорії ймовірності $P(A)=\\frac{M}{N}$\n",
    "Де М - кількість можливих здійснених  варіантів подій, а N загальна кількість можливих подій.\n",
    "\n",
    "$$N=C_3^7=\\frac {7!}{3!4!}=\\frac{5*6*7*4!}{1*2*3*4!}=35$$\n",
    "\n",
    "$$M=C_4^2*C_3^1=\\frac{4!}{2!2!}*\\frac{3!}{1!2!}= \\frac{4*3*2!}{2!2!}*\\frac{3*2!}{1!2!}=\\frac{4*3*3}{2}=18$$\n",
    "\n",
    "$$P(A)=\\frac{M}{N}=\\frac{18}{35} \\approx 0.5143$$"
   ]
  },
  {
   "cell_type": "markdown",
   "id": "4fada0b9",
   "metadata": {},
   "source": [
    "### Відповідь\n",
    "Ймовірність того, що два незношені елементи виявляться включеними дорівнює __$\\approx 0.5143$__"
   ]
  }
 ],
 "metadata": {
  "kernelspec": {
   "display_name": "Python 3 (ipykernel)",
   "language": "python",
   "name": "python3"
  },
  "language_info": {
   "codemirror_mode": {
    "name": "ipython",
    "version": 3
   },
   "file_extension": ".py",
   "mimetype": "text/x-python",
   "name": "python",
   "nbconvert_exporter": "python",
   "pygments_lexer": "ipython3",
   "version": "3.10.8"
  }
 },
 "nbformat": 4,
 "nbformat_minor": 5
}
