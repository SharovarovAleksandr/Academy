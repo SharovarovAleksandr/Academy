{
 "cells": [
  {
   "cell_type": "markdown",
   "id": "c573f769",
   "metadata": {},
   "source": [
    "### Задача 1\n",
    "Ймовірність того, що телевізор витримає гарантійний термін роботи 0.9, для всіх телевізорів, які обслуговує гарантійна майстерня. Оцінити ймовірнісь того, що число телевізорів, які витримують гарантійний термін роботи, буде в межах [85,95]."
   ]
  },
  {
   "cell_type": "markdown",
   "id": "f4517087",
   "metadata": {},
   "source": [
    "### Рішення\n",
    "Приймемо за розмір виборки - 100 телевізорів.\n",
    "\n",
    "Використаємо наступну формулу: \n",
    "\n",
    "$$ P \\left( \\left| \\frac{m}{n}-p \\right|  \\leq \\varepsilon \\right) \\approx 2 \\Phi \\left( \\varepsilon \\sqrt{\\frac{n}{pq}} \\right) $$\n",
    "\n",
    "де $\\Phi$ - функція Лапласа, $n=100,  p=0.9$, відповідно    $q=1-p=1-0.9=0.1$ Значення $m$ знаходиться в межах $85<m<95$ З'ясуємо можливі значення $\\varepsilon$\n",
    "\n",
    "$$ \\left| \\frac{m}{n}-p \\right|=\\left|\\frac{85}{100}-0.9 \\right|=\\left|-0.05\\right| \\leq \\varepsilon \\,\\,\\,\\,\\,\\,   \\left| \\frac{m}{n}-p \\right|=\\frac{95}{100}-0.9=0.05 \\leq \\varepsilon $$\n",
    "\n",
    "Розрахуємо $P$ для $\\varepsilon=0.05$\n",
    "\n",
    "$$P \\left( \\left| \\frac{m}{n}-p \\right|  \\leq \\varepsilon \\right) \\approx 2\\Phi\\left( \\varepsilon \\sqrt{\\frac{n}{pq}} \\right) \\approx 2\\Phi\\left(0.05  \\sqrt{\\frac{100}{0.9*0.1}}   \\right)\\approx2\\Phi(1.666)\\approx2*0.4522\\approx0.9044$$"
   ]
  },
  {
   "cell_type": "markdown",
   "id": "d749dd14",
   "metadata": {},
   "source": [
    "### Відповідь\n",
    "Ймовірність того, що [85,95] телевізорів витримують гарантійний термін роботи дорівнює $\\approx 0.9044$"
   ]
  },
  {
   "cell_type": "code",
   "execution_count": null,
   "id": "78a9dbee",
   "metadata": {},
   "outputs": [],
   "source": []
  }
 ],
 "metadata": {
  "kernelspec": {
   "display_name": "Python 3 (ipykernel)",
   "language": "python",
   "name": "python3"
  },
  "language_info": {
   "codemirror_mode": {
    "name": "ipython",
    "version": 3
   },
   "file_extension": ".py",
   "mimetype": "text/x-python",
   "name": "python",
   "nbconvert_exporter": "python",
   "pygments_lexer": "ipython3",
   "version": "3.10.8"
  }
 },
 "nbformat": 4,
 "nbformat_minor": 5
}
