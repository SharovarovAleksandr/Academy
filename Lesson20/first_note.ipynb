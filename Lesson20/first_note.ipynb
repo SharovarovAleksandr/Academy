{
 "cells": [
  {
   "cell_type": "markdown",
   "id": "83381346",
   "metadata": {},
   "source": [
    "# Перший проект"
   ]
  },
  {
   "cell_type": "markdown",
   "id": "6ba2adb5",
   "metadata": {},
   "source": [
    "Це демонстрація роботи jupyter notebook для виконання домашнього завдання"
   ]
  },
  {
   "cell_type": "markdown",
   "id": "92926f08",
   "metadata": {},
   "source": [
    "_Додамо код на Python_"
   ]
  },
  {
   "cell_type": "code",
   "execution_count": 1,
   "id": "9c999b9b",
   "metadata": {},
   "outputs": [
    {
     "name": "stdout",
     "output_type": "stream",
     "text": [
      "Введіть число  56\n",
      "Моє число більше\n",
      "Введіть число  89\n",
      "Моє число більше\n",
      "Введіть число  95\n",
      "Мое число менше \n",
      "Введіть число  90\n",
      "Моє число більше\n",
      "Введіть число  92\n",
      "Мое число менше \n",
      "Введіть число  91\n",
      "Вітаю ви вгадали число  91   Кількість спроб 6\n"
     ]
    }
   ],
   "source": [
    "# Згенерувати рандомне число\n",
    "import random\n",
    "num=random.randint(1,100)\n",
    "# Ввести логічну змінну яка буде показувати виграли чи програли гру при програші вона True\n",
    "b=True\n",
    "#\n",
    "# Створити цикл for який максимально виконується 6 разів (6 спроб) за допомогою range\n",
    "\n",
    "for i in range(1,7):\n",
    "# Цикл на кожному кроці вводить число та перевіряє його\n",
    "    # n присвоїти int від введеного числа\n",
    "    n = int(input(\"Введіть число  \"))\n",
    "    # перевіряємо чи вгадали число n==num\n",
    "    if n==num:\n",
    "        # якщо вгадали друкуємо привітання, число, кількість спроб\n",
    "        print(\"Вітаю ви вгадали число \",num,\"  Кількість спроб\",i)\n",
    "        # змінюємо значння b=False\n",
    "        b=False\n",
    "        # передчасно виходимо з циклу\n",
    "        break\n",
    "    ## перевіряємо якщо число n>num\n",
    "    elif n>num:\n",
    "        # друкуємо що задумане число менше\n",
    "        print(\"Мое число менше \")\n",
    "    ## перевіряємо якщо число n<num\n",
    "    elif n<num:\n",
    "        # друкуємо що задумане число більше\n",
    "        print(\"Моє число більше\")\n",
    "# повертаємося до початку циклу\n",
    "# після виходу з цикла перевіряємо чи було знайдено правильне число\n",
    "# якщо b = True друкуємо \"Ви програли\" інакше виходимо з програми\n",
    "if b:\n",
    "    print(\"Вибачте ви програли\")\n"
   ]
  },
  {
   "cell_type": "markdown",
   "id": "e7a46a6f",
   "metadata": {},
   "source": [
    "Поки ми виконуємо домашнє завдання та пишемо код на Python мої думки тут!"
   ]
  },
  {
   "cell_type": "markdown",
   "id": "e4481b1a",
   "metadata": {},
   "source": [
    "![Море пальми](https://cdn.pixabay.com/photo/2016/03/04/19/36/beach-1236581_960_720.jpg \"Мрії\")"
   ]
  },
  {
   "cell_type": "code",
   "execution_count": null,
   "id": "472bc2d2",
   "metadata": {},
   "outputs": [],
   "source": []
  }
 ],
 "metadata": {
  "kernelspec": {
   "display_name": "Python 3 (ipykernel)",
   "language": "python",
   "name": "python3"
  },
  "language_info": {
   "codemirror_mode": {
    "name": "ipython",
    "version": 3
   },
   "file_extension": ".py",
   "mimetype": "text/x-python",
   "name": "python",
   "nbconvert_exporter": "python",
   "pygments_lexer": "ipython3",
   "version": "3.10.8"
  }
 },
 "nbformat": 4,
 "nbformat_minor": 5
}
