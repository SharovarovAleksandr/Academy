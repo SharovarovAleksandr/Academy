{
 "cells": [
  {
   "cell_type": "markdown",
   "id": "4d8e3513",
   "metadata": {},
   "source": [
    "# Демонстраційна таблиця"
   ]
  },
  {
   "cell_type": "markdown",
   "id": "12dc7e04",
   "metadata": {},
   "source": [
    "| Year | Rank | Revenue | Company |Profit |\n",
    "|:---  |:----:| :----:  | :----:  |---: |\n",
    "| 1955 | 229 | _Norton_ | __135__ |N.A. |\n",
    "| 1955 | 291 |_Schlitz Brewing_ | __100__ |N.A. |\n",
    "| 1955 | 295 |_Pacific Vegetable Oil_|__97.9__ |N.A. |\n",
    "| 1955 | 297 |_Liebmann Breweries_ | __96__ |N.A. |\n",
    "| 1955 | 350 |_Minneapolis-Moline_ | __77.4__ |N.A. |\n",
    "| 1955 | 297 |_Liebmann Breweries_ | __96__ |N.A. |\n"
   ]
  },
  {
   "cell_type": "code",
   "execution_count": null,
   "id": "18521910",
   "metadata": {},
   "outputs": [],
   "source": []
  }
 ],
 "metadata": {
  "kernelspec": {
   "display_name": "Python 3 (ipykernel)",
   "language": "python",
   "name": "python3"
  },
  "language_info": {
   "codemirror_mode": {
    "name": "ipython",
    "version": 3
   },
   "file_extension": ".py",
   "mimetype": "text/x-python",
   "name": "python",
   "nbconvert_exporter": "python",
   "pygments_lexer": "ipython3",
   "version": "3.10.8"
  }
 },
 "nbformat": 4,
 "nbformat_minor": 5
}
