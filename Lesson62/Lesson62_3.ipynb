{
  "nbformat": 4,
  "nbformat_minor": 0,
  "metadata": {
    "colab": {
      "provenance": [],
      "gpuType": "T4",
      "mount_file_id": "1PuQxWvwvTUheu0K8YxnF2A1DOriSNvWp",
      "authorship_tag": "ABX9TyPClOMACnpNj+hBVOvxcl/v",
      "include_colab_link": true
    },
    "kernelspec": {
      "name": "python3",
      "display_name": "Python 3"
    },
    "language_info": {
      "name": "python"
    },
    "accelerator": "GPU",
    "gpuClass": "standard"
  },
  "cells": [
    {
      "cell_type": "markdown",
      "metadata": {
        "id": "view-in-github",
        "colab_type": "text"
      },
      "source": [
        "<a href=\"https://colab.research.google.com/github/SharovarovAleksandr/Academy/blob/main/Lesson62/Lesson62_3.ipynb\" target=\"_parent\"><img src=\"https://colab.research.google.com/assets/colab-badge.svg\" alt=\"Open In Colab\"/></a>"
      ]
    },
    {
      "cell_type": "markdown",
      "source": [
        "### Завдання\n",
        "#### Завантажте датасет CIFAR-10 та використайте метод HOG для витягування ознак зображення. Застосуйте простий класифікатор SVM для класифікації зображень та обчисліть метрики точності accuracy_score, precision_score, recall_score, f1_score."
      ],
      "metadata": {
        "id": "i_oyXi3QkQTe"
      }
    },
    {
      "cell_type": "code",
      "source": [
        "import numpy as np\n",
        "from skimage.feature import hog\n",
        "from sklearn.svm import SVC\n",
        "from sklearn.metrics import precision_score, recall_score, f1_score, accuracy_score\n",
        "from keras.datasets import cifar10\n",
        "import cv2 as cv2\n",
        "from google.colab.patches import cv2_imshow\n",
        "\n",
        "\n",
        "# Load CIFAR-10 dataset\n",
        "(x_train, y_train), (x_test, y_test) = cifar10.load_data()\n",
        "\n",
        "y_train=y_train.ravel()\n",
        "y_test=y_test.ravel()\n",
        "\n",
        "# Extract HOG features from the images\n",
        "hog_features_train = []\n",
        "for image in x_train:\n",
        "    hog_features_train.append(hog(image, orientations=8, pixels_per_cell=(4, 4), cells_per_block=(2, 2),channel_axis=-1))\n",
        "hog_features_train = np.array(hog_features_train)\n",
        "\n",
        "hog_features_test = []\n",
        "for image in x_test:\n",
        "    hog_features_test.append(hog(image, orientations=8, pixels_per_cell=(4, 4), cells_per_block=(2, 2),channel_axis=-1))\n",
        "hog_features_test = np.array(hog_features_test)\n",
        "\n",
        "# Train an SVM classifier on the HOG features\n",
        "svm = SVC(kernel='linear', C=1)\n",
        "svm.fit(hog_features_train, y_train)\n",
        "\n",
        "# Predict the classes of the test images using the trained classifier\n",
        "y_pred = svm.predict(hog_features_test)\n",
        "\n",
        "# Print evaluation metrics\n",
        "print('Accuracy:', accuracy_score(y_test, y_pred))\n",
        "print('Precision:', precision_score(y_test, y_pred, average='macro'))\n",
        "print('Recall:', recall_score(y_test, y_pred, average='macro'))\n",
        "print('F1-score:', f1_score(y_test, y_pred, average='macro'))"
      ],
      "metadata": {
        "id": "2zSTrn51pQpE",
        "colab": {
          "base_uri": "https://localhost:8080/"
        },
        "outputId": "e145d49e-9e37-4a8d-8fc8-2f623c4be6da"
      },
      "execution_count": 5,
      "outputs": [
        {
          "output_type": "stream",
          "name": "stdout",
          "text": [
            "Accuracy: 0.5503\n",
            "Precision: 0.549834416218658\n",
            "Recall: 0.5503000000000001\n",
            "F1-score: 0.5492945623281151\n"
          ]
        }
      ]
    },
    {
      "cell_type": "markdown",
      "source": [
        "### Висновки\n",
        "### Метод HOG дає кращі результати у порівнянні із методом SIFT"
      ],
      "metadata": {
        "id": "ckI-rtG1hr5q"
      }
    },
    {
      "cell_type": "code",
      "source": [],
      "metadata": {
        "id": "0zNhuKp0iJTv"
      },
      "execution_count": null,
      "outputs": []
    }
  ]
}