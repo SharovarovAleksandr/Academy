{
  "nbformat": 4,
  "nbformat_minor": 0,
  "metadata": {
    "colab": {
      "provenance": [],
      "mount_file_id": "1pX7P8FmW4R0Nw7fpuubg24YLg_Mud5QR",
      "authorship_tag": "ABX9TyPHxtALQGHLgM5YQ1bu9+we",
      "include_colab_link": true
    },
    "kernelspec": {
      "name": "python3",
      "display_name": "Python 3"
    },
    "language_info": {
      "name": "python"
    }
  },
  "cells": [
    {
      "cell_type": "markdown",
      "metadata": {
        "id": "view-in-github",
        "colab_type": "text"
      },
      "source": [
        "<a href=\"https://colab.research.google.com/github/SharovarovAleksandr/Academy/blob/main/Lesson62/Lesson62_4.ipynb\" target=\"_parent\"><img src=\"https://colab.research.google.com/assets/colab-badge.svg\" alt=\"Open In Colab\"/></a>"
      ]
    },
    {
      "cell_type": "markdown",
      "source": [
        "### Використайте метод SIFT для витягування ознак з зображень та порівняйте його з методом HOG за допомогою метрик точності."
      ],
      "metadata": {
        "id": "R1KpmuWQacU3"
      }
    },
    {
      "cell_type": "code",
      "source": [
        "import cv2\n",
        "from sklearn.cluster import KMeans\n",
        "from sklearn.svm import SVC\n",
        "import numpy as np\n",
        "from keras.datasets import cifar10\n",
        "import matplotlib.pyplot as plt\n",
        "from sklearn.metrics import precision_score, recall_score, f1_score, accuracy_score\n",
        "\n",
        "from keras.models import Sequential\n",
        "from keras.layers.core import Dense, Dropout, Activation, Flatten\n",
        "from keras.layers import Conv2D, MaxPooling2D\n",
        "from keras.utils import np_utils\n",
        "import warnings\n",
        "warnings.filterwarnings(\"ignore\")\n",
        "\n",
        "\n",
        "if __name__==\"__main__\": \n",
        "    (x_train, y_train), (x_test, y_test) = cifar10.load_data()\n",
        "\n",
        "    sift = cv2.xfeatures2d.SIFT_create() #Uses SIFT to get descriptors\n",
        "    descritores = [] \n",
        "   \n",
        "\n",
        "    #Extract descriptors for all images on the dataset\n",
        "    for i in np.arange(x_train.shape[0]):\n",
        "        _,imgDesc = sift.detectAndCompute(x_train[i],None)\n",
        "        if imgDesc is not None:\n",
        "            for j in np.arange(imgDesc.shape[0]):\n",
        "                descritores.append(imgDesc[j])\n",
        "\n",
        "    descritores = np.array(descritores)\n",
        "   \n",
        "    #Apply KMeans to descriptors list to generate 10 centroids corresponding to the 10 visual words\n",
        "    kmeans = KMeans(n_clusters=10).fit(descritores)\n",
        "\n",
        "    treino_hist_X=[]\n",
        "    treino_hist_Y=[]\n",
        "    \n",
        "    #For each descriptor of an image, find the closest centroid\n",
        "    #This return a vector with the number of each centroid for each descriptor of an image\n",
        "    #Create an histogram out of acho vector for each imagem\n",
        "    #Associate a label for each histogram\n",
        "    for i in np.arange(x_train.shape[0]):\n",
        "         _,imgDesc = sift.detectAndCompute(x_train[i],None)\n",
        "         if imgDesc is not None:\n",
        "             kcent = kmeans.predict(imgDesc) \n",
        "             hist,_ = np.histogram(kcent,bins=[0,1,2,3,4,5,6,7,8,9,10],normed=True)\n",
        "             treino_hist_X.append(hist)\n",
        "             treino_hist_Y.append(y_train[i])\n",
        "\n",
        "\n",
        "    treino_hist_X = np.array(treino_hist_X).reshape((-1,10))\n",
        "    treino_hist_Y = np.array(treino_hist_Y).reshape((-1,))\n",
        "\n",
        "\n",
        "    #Train SVM classifier with histogram and label pairs from the training set\n",
        "    \n",
        "    modSVM = SVC()\n",
        "    modSVM.fit(treino_hist_X,treino_hist_Y.reshape((-1,)))\n",
        "\n",
        "    matriz_conf_teste = np.zeros((10,10))\n",
        "\n",
        "    #Aplly SVM on the test set\n",
        "    #Extract descriptor for each image\n",
        "    #Find closest centroid\n",
        "    #Create histogram for each image\n",
        "    #Predict category with the SVM classifiear\n",
        "    #Lines correspond to true labels and columns correspond to predictions from the SVM classifier\n",
        "    preds=[]\n",
        "    labels=[]\n",
        "    for i in np.arange(x_test.shape[0]):\n",
        "         _,imgDesc = sift.detectAndCompute(x_test[i],None)\n",
        "         if imgDesc is not None:\n",
        "             kcent = kmeans.predict(imgDesc) \n",
        "             hist,_ = np.histogram(kcent,bins=[0,1,2,3,4,5,6,7,8,9,10],normed=True)\n",
        "             ret = modSVM.predict(hist.reshape((1,-1)))[0]\n",
        "             preds.append(ret)\n",
        "             labels.append(y_test[i,0])\n",
        "             real = y_test[i,0]\n",
        "             matriz_conf_teste[real,ret] = matriz_conf_teste[real,ret] + 1\n",
        "\n",
        "   \n",
        "    print('Accuracy:', accuracy_score(labels,preds))\n",
        "    print('Precision:', precision_score(labels,preds, average='macro'))\n",
        "    print('Recall:', recall_score(labels,preds, average='macro'))\n",
        "    print('F1-score:', f1_score(labels,preds, average='macro'))\n"
      ],
      "metadata": {
        "colab": {
          "base_uri": "https://localhost:8080/"
        },
        "id": "S-1sv9_k4hmj",
        "outputId": "8a0f64f7-b9bb-4b8e-c740-9916b0a2dcb3"
      },
      "execution_count": 1,
      "outputs": [
        {
          "output_type": "stream",
          "name": "stdout",
          "text": [
            "Downloading data from https://www.cs.toronto.edu/~kriz/cifar-10-python.tar.gz\n",
            "170498071/170498071 [==============================] - 4s 0us/step\n",
            "Accuracy: 0.21932638331996793\n",
            "Precision: 0.21132440284846762\n",
            "Recall: 0.2194732779092512\n",
            "F1-score: 0.20313285284931104\n"
          ]
        }
      ]
    }
  ]
}