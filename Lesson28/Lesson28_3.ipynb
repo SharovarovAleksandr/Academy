{
 "cells": [
  {
   "cell_type": "markdown",
   "id": "183400c8",
   "metadata": {},
   "source": [
    "### Задача3\n",
    "\n",
    "Знайти мінімальний об’єм вибірки, при якому з надійністю $\\gamma=0.99$ точність оцінки математичного сподівання $a$ нормально розподіленої ознаки дорівнює  $\\delta=0.6$, якщо середнє квадратичне відхилення $\\sigma=3$."
   ]
  },
  {
   "cell_type": "markdown",
   "id": "7732ca61",
   "metadata": {},
   "source": [
    "### Рішення\n",
    "\n",
    "Для оцінки об'єму вибірки скористаємося наступними формулами:\n",
    "\n",
    "Параметр t – аргумент функції Лапласа, для якого $\\Phi(t)=\\frac{\\gamma}{2}=\\frac{0,99}{2}=0.495$ знайдемо з таблиці $t=2.58$\n",
    "\n",
    "Об'єм виборки визначається за формулою:\n",
    "\n",
    "$$n=\\frac{t^2\\sigma^2}{\\delta^2}= \\frac{2.58^2*3^2}{0.6^2}=166.41$$\n",
    "\n"
   ]
  },
  {
   "cell_type": "markdown",
   "id": "f2e808ef",
   "metadata": {},
   "source": [
    "### Відповідь\n",
    "Для того щоб гарантовано отримати надійність математичного сподівання  $\\gamma=0.99$, та задане середньоквадратичне відхилення $\\sigma=3$, об'єм виборки має становити $n=167$."
   ]
  },
  {
   "cell_type": "code",
   "execution_count": null,
   "id": "723c0b32",
   "metadata": {},
   "outputs": [],
   "source": []
  }
 ],
 "metadata": {
  "kernelspec": {
   "display_name": "Python 3 (ipykernel)",
   "language": "python",
   "name": "python3"
  },
  "language_info": {
   "codemirror_mode": {
    "name": "ipython",
    "version": 3
   },
   "file_extension": ".py",
   "mimetype": "text/x-python",
   "name": "python",
   "nbconvert_exporter": "python",
   "pygments_lexer": "ipython3",
   "version": "3.10.8"
  }
 },
 "nbformat": 4,
 "nbformat_minor": 5
}
