{
 "cells": [
  {
   "cell_type": "markdown",
   "id": "8cdf82a2",
   "metadata": {},
   "source": [
    "### Задача 2\n",
    "Знайти з надійністю $\\gamma=0,95$ інтервальну оцінку для ймовірності настання події А в кожному із $n=100$ незалежних повторних  випробувань, якщо подія відбулась $m = 40$ раз."
   ]
  },
  {
   "cell_type": "markdown",
   "id": "f9a0ae47",
   "metadata": {},
   "source": [
    "### Рішення\n",
    "\n",
    "Для оцінки ймовірності настання події скористаємося наступними формулами:\n",
    "\n",
    "Параметр t – аргумент функції Лапласа, для якого $\\Phi(t)=\\frac{\\gamma}{2}=\\frac{0,95}{2}=0.475$ знайдемо з таблиці $t=1.96$\n",
    "\n",
    "$$p_1<p<p_2$$\n",
    "\n",
    "$$ p_1=\\frac{1}{t^2+n} \\left[ m+\\frac{t^2}{2}-t\\sqrt{ \\frac{m(n-m)}{n}+\\frac{t^2}{4} } \\right]=\n",
    "       \\frac{1}{1.96^2+100} \\left[ 40+\\frac{1.96^2}{2}-1.96\\sqrt{ \\frac{40(100-40)}{100}+\\frac{1.96^2}{4} } \\right]\\approx0.3094\n",
    "$$\n",
    "\n",
    "\n",
    "\n",
    "$$ p_2=\\frac{1}{t^2+n} \\left[ m+\\frac{t^2}{2}+t\\sqrt{ \\frac{m(n-m)}{n}+\\frac{t^2}{4} } \\right]=\n",
    "\\frac{1}{1.96^2+100} \\left[ 40+\\frac{1.96^2}{2}+1.96\\sqrt{ \\frac{40(100-40)}{100}+\\frac{1.96^2}{4} } \\right]\\approx0.4979$$\n",
    "\n",
    "\n"
   ]
  },
  {
   "cell_type": "markdown",
   "id": "f8b0e015",
   "metadata": {},
   "source": [
    "### Відповідь\n",
    "Інтервальною оцінкою для ймовірності настання події А буде довірчий інтервал (0,3094;0,4979)."
   ]
  },
  {
   "cell_type": "code",
   "execution_count": null,
   "id": "70ca8920",
   "metadata": {},
   "outputs": [],
   "source": []
  }
 ],
 "metadata": {
  "kernelspec": {
   "display_name": "Python 3 (ipykernel)",
   "language": "python",
   "name": "python3"
  },
  "language_info": {
   "codemirror_mode": {
    "name": "ipython",
    "version": 3
   },
   "file_extension": ".py",
   "mimetype": "text/x-python",
   "name": "python",
   "nbconvert_exporter": "python",
   "pygments_lexer": "ipython3",
   "version": "3.10.8"
  }
 },
 "nbformat": 4,
 "nbformat_minor": 5
}
