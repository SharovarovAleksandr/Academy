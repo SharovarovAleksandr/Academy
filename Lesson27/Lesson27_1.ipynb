{
 "cells": [
  {
   "cell_type": "markdown",
   "id": "91bb44e6",
   "metadata": {},
   "source": [
    "### Задача 1\n",
    "Мікропроцесор має 10000 транзисторів, які працюють незалежно один від одного. Імовірність того, що транзистор вийде із ладу під час роботи приладу, є величиною малоймовірною і становить 0,0007. Визначити математичне сподівання $М(Х)$ і середнє квадратичне відхилення $\\sigma (Х)$ випадкової величини Х — числа транзисторів, що вийдуть із ладу під час роботи мікропроцесора."
   ]
  },
  {
   "cell_type": "markdown",
   "id": "dfaebe22",
   "metadata": {},
   "source": [
    "### Рішення\n",
    "\n",
    "Виходячи з того, що розмір вибірки великий $n=10000$, а ймовірність виходу з ладу величина мала $p=0.0007$, можемо застосувати розподіл Пуассона.\n",
    "\n",
    "Відповідно до формул $M(X)=np=10000*0.0007=7$\n",
    "\n",
    "Дисперсія $D(X)=M(X)=np=7$\n",
    "\n",
    "Середньоквадратичне відхилення \n",
    "$\\sigma (X)=\\sqrt{np}=\\sqrt{7}=2.6457$\n",
    "\n"
   ]
  },
  {
   "cell_type": "code",
   "execution_count": null,
   "id": "34595f74",
   "metadata": {},
   "outputs": [],
   "source": []
  }
 ],
 "metadata": {
  "kernelspec": {
   "display_name": "Python 3 (ipykernel)",
   "language": "python",
   "name": "python3"
  },
  "language_info": {
   "codemirror_mode": {
    "name": "ipython",
    "version": 3
   },
   "file_extension": ".py",
   "mimetype": "text/x-python",
   "name": "python",
   "nbconvert_exporter": "python",
   "pygments_lexer": "ipython3",
   "version": "3.10.8"
  }
 },
 "nbformat": 4,
 "nbformat_minor": 5
}
