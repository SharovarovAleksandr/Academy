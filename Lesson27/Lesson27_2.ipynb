{
 "cells": [
  {
   "cell_type": "markdown",
   "id": "43545516",
   "metadata": {},
   "source": [
    "### Задача 2\n",
    "\n",
    "У рибальському містечку 99,99% чоловіків хоча б раз в житті були на рибалці. Проводять соціологічні дослідження серед 10000 навмання вибраних чоловіків. Визначити дисперсію $D (X)$ і середнє квадратичне відхилення $\\sigma (Х)$ випадкової величини Х — числа чоловіків, які жодного разу не були на рибалці."
   ]
  },
  {
   "cell_type": "markdown",
   "id": "a873860f",
   "metadata": {},
   "source": [
    "### Рішення\n",
    "Знайдемо ймовірність того що чоловік жодного разу не був на рибалці.\n",
    "$p=1-0.9999=0.0001$ Застосуємо закон Пуассона до наступного розподілу:\n",
    "\n",
    "$M(X)=np=10000*0.0001=1$\n",
    "\n",
    "Дисперсія $D(X)=np=1$\n",
    "\n",
    "Середньоквадратичне відхилення \n",
    "$\\sigma (X)=\\sqrt{np}=\\sqrt{1}=1$\n",
    "\n"
   ]
  },
  {
   "cell_type": "code",
   "execution_count": null,
   "id": "3e04d607",
   "metadata": {},
   "outputs": [],
   "source": []
  }
 ],
 "metadata": {
  "kernelspec": {
   "display_name": "Python 3 (ipykernel)",
   "language": "python",
   "name": "python3"
  },
  "language_info": {
   "codemirror_mode": {
    "name": "ipython",
    "version": 3
   },
   "file_extension": ".py",
   "mimetype": "text/x-python",
   "name": "python",
   "nbconvert_exporter": "python",
   "pygments_lexer": "ipython3",
   "version": "3.10.8"
  }
 },
 "nbformat": 4,
 "nbformat_minor": 5
}
