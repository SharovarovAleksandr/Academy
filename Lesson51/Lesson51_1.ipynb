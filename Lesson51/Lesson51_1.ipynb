{
  "cells": [
    {
      "cell_type": "markdown",
      "metadata": {
        "id": "view-in-github",
        "colab_type": "text"
      },
      "source": [
        "<a href=\"https://colab.research.google.com/github/SharovarovAleksandr/Academy/blob/main/Lesson51/Lesson51_1.ipynb\" target=\"_parent\"><img src=\"https://colab.research.google.com/assets/colab-badge.svg\" alt=\"Open In Colab\"/></a>"
      ]
    },
    {
      "cell_type": "markdown",
      "metadata": {
        "id": "n2z0bA-1lfZr"
      },
      "source": []
    },
    {
      "cell_type": "markdown",
      "metadata": {
        "id": "3Y1FutZ_lk2k"
      },
      "source": [
        "### Завдання \n",
        "До пункту видачі надійшли вироби з такими характеристиками:\n",
        "Всього виробів – 13000 одиниць, з них виготовлено на першому заводі — 8000 од., вагою 13 кг., зі стандартним відхиленням по вазі 0.5 кг.. На другому — 5000 од., вагою 12 кг., зі стандартним відхиленням по вазі 0.7 кг. Доля якісних виробів, вироблених на першому заводі, становить 0.85. Доля якісних виробів, вироблених на другому заводі 0,8.\n",
        "\n",
        "Завдання: \n",
        "Написати код, з використанням EM-алгоритму, для визначення ймовірності, на якому заводі був вироблений виріб.\n"
      ]
    },
    {
      "cell_type": "code",
      "execution_count": 2,
      "metadata": {
        "id": "vkdQEFhai5rg"
      },
      "outputs": [],
      "source": [
        "import numpy as np\n",
        "from scipy.stats import norm\n",
        "import matplotlib.pyplot as plt\n"
      ]
    },
    {
      "cell_type": "code",
      "execution_count": 13,
      "metadata": {
        "id": "wzYpBKLpjT43"
      },
      "outputs": [],
      "source": [
        "N = 13000           # загальна кількість деталей\n",
        "n1 = 8000           # кількість деталей 1\n",
        "n2 = 5000           # кількість деталей 2\n",
        "mu1 = 13            # вага першого виробу\n",
        "mu2 = 12            # вага другого виробу\n",
        "sigma1 = 0.5        # стандартне відхилення маси першого виробу\n",
        "sigma2 = 0.7        # стандартне відхилення маси другого виробу\n",
        "theta1 = 0.85       # ймовірність отримання якісної деталі 1\n",
        "theta2 = 0.8        # ймовірність отримання якісної деталі 2\n",
        "max_iter = 1000     # кількість ітерацій для роботи алгоритму\n",
        "tolerance = 0.0001  # точніть методу\n",
        "\n",
        "# Згенеруємо виборки випадкових величин згідно умов завдання\n",
        "x1 = np.random.normal(mu1, sigma1, n1)   \n",
        "x2 = np.random.normal(mu2, sigma2, n2)\n",
        "x=np.hstack([x1, x2])    # об'єднаємо виборки в одну\n",
        "\n"
      ]
    },
    {
      "cell_type": "code",
      "execution_count": 9,
      "metadata": {
        "colab": {
          "base_uri": "https://localhost:8080/"
        },
        "id": "AdH11X6bl0by",
        "outputId": "2b904c8a-869a-4176-f115-c9136ddb9ba0"
      },
      "outputs": [
        {
          "output_type": "stream",
          "name": "stdout",
          "text": [
            "582 - Кількість ітерацій для досягнення критерію зупинки\n"
          ]
        }
      ],
      "source": [
        "for i in range(max_iter):\n",
        "# E-крок\n",
        "    px_z1 = norm.pdf(x, mu1, sigma1) * theta1\n",
        "    px_z2 = norm.pdf(x, mu2, sigma2) * theta2\n",
        "    pz1_x = px_z1 / (px_z1 + px_z2)\n",
        "    pz2_x = px_z2 / (px_z1 + px_z2)\n",
        "# M-крок\n",
        "    mu1_new = np.sum(pz1_x * x) / np.sum(pz1_x)\n",
        "    mu2_new = np.sum(pz2_x * x) / np.sum(pz2_x)\n",
        "    sigma1_new = np.sqrt(np.sum(pz1_x * (x - mu1_new)**2) / np.sum(pz1_x))\n",
        "    sigma2_new = np.sqrt(np.sum(pz2_x * (x - mu2_new)**2) / np.sum(pz2_x))\n",
        "    theta1_new = np.sum(pz1_x) / N\n",
        "    theta2_new = np.sum(pz2_x) / N\n",
        "\n",
        "# перевірка критерія зупинки\n",
        "    if (abs(mu1_new - mu1) < tolerance and abs(mu2_new - mu2) < tolerance and\n",
        "        abs(sigma1_new - sigma1) < tolerance and abs(sigma2_new - sigma2) < tolerance and\n",
        "        abs(theta1_new - theta1) < tolerance and abs(theta2_new - theta2) < tolerance):\n",
        "        print(i, '- Кількість ітерацій для досягнення критерію зупинки')\n",
        "        break\n",
        "\n",
        "    # оновлення параметрів моделі\n",
        "    mu1 = mu1_new\n",
        "    mu2 = mu2_new\n",
        "    sigma1 = sigma1_new\n",
        "    sigma2 = sigma2_new\n",
        "    theta1 = theta1_new\n",
        "    theta2 = theta2_new\n",
        "\n",
        " "
      ]
    },
    {
      "cell_type": "markdown",
      "source": [
        "### Визначемо на якому заводі була виготовлена деталь"
      ],
      "metadata": {
        "id": "YrK12nd_IpAb"
      }
    },
    {
      "cell_type": "code",
      "execution_count": 14,
      "metadata": {
        "colab": {
          "base_uri": "https://localhost:8080/"
        },
        "id": "438t9qxLqdQM",
        "outputId": "96f497bd-5630-4bbf-ab73-56b35d7ee62e"
      },
      "outputs": [
        {
          "name": "stdout",
          "output_type": "stream",
          "text": [
            "Введіть масу деталі або 'S' для зупинки : 11\n",
            "Продукт був виготовлений на ДРУГОМУ заводі.\n",
            "Введіть масу деталі або 'S' для зупинки : 12\n",
            "Продукт був виготовлений на ДРУГОМУ заводі.\n",
            "Введіть масу деталі або 'S' для зупинки : 12.5\n",
            "Продукт був виготовлений на ПЕРШОМУ заводі.\n",
            "Введіть масу деталі або 'S' для зупинки : 12.3\n",
            "Продукт був виготовлений на ДРУГОМУ заводі.\n",
            "Введіть масу деталі або 'S' для зупинки : 13\n",
            "Продукт був виготовлений на ПЕРШОМУ заводі.\n",
            "Введіть масу деталі або 'S' для зупинки : 13.3\n",
            "Продукт був виготовлений на ПЕРШОМУ заводі.\n",
            "Введіть масу деталі або 'S' для зупинки : 10.7\n",
            "Продукт був виготовлений на ДРУГОМУ заводі.\n",
            "Введіть масу деталі або 'S' для зупинки : S\n"
          ]
        }
      ],
      "source": [
        "while True:\n",
        "    x=input(\"Введіть масу деталі або 'S' для зупинки : \")\n",
        "    if x=='S':\n",
        "       break\n",
        "    else:\n",
        "      x=float(x)\n",
        "      px_z1_new = norm.pdf(x, mu1, sigma1) * theta1\n",
        "      px_z2_new = norm.pdf(x, mu2, sigma2) * theta2\n",
        "      if px_z1_new > px_z2_new:\n",
        "          print(\"Продукт був виготовлений на ПЕРШОМУ заводі.\")\n",
        "      else:\n",
        "          print(\"Продукт був виготовлений на ДРУГОМУ заводі.\")"
      ]
    }
  ],
  "metadata": {
    "colab": {
      "provenance": [],
      "authorship_tag": "ABX9TyMGVdPOQokAEs8JX1Xeo1S8",
      "include_colab_link": true
    },
    "kernelspec": {
      "display_name": "Python 3",
      "name": "python3"
    },
    "language_info": {
      "name": "python"
    }
  },
  "nbformat": 4,
  "nbformat_minor": 0
}