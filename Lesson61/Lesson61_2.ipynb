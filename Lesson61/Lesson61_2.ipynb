{
  "nbformat": 4,
  "nbformat_minor": 0,
  "metadata": {
    "colab": {
      "provenance": [],
      "authorship_tag": "ABX9TyNKVh0nKHE2GU2ZiUfnoIbv",
      "include_colab_link": true
    },
    "kernelspec": {
      "name": "python3",
      "display_name": "Python 3"
    },
    "language_info": {
      "name": "python"
    }
  },
  "cells": [
    {
      "cell_type": "markdown",
      "metadata": {
        "id": "view-in-github",
        "colab_type": "text"
      },
      "source": [
        "<a href=\"https://colab.research.google.com/github/SharovarovAleksandr/Academy/blob/main/Lesson61/Lesson61_2.ipynb\" target=\"_parent\"><img src=\"https://colab.research.google.com/assets/colab-badge.svg\" alt=\"Open In Colab\"/></a>"
      ]
    },
    {
      "cell_type": "markdown",
      "source": [
        "### Алгоритм Хофмана для стиснення текстових даних"
      ],
      "metadata": {
        "id": "oyRn9oEhDcKX"
      }
    },
    {
      "cell_type": "code",
      "execution_count": 12,
      "metadata": {
        "id": "6JmdB0NGDQ9y"
      },
      "outputs": [],
      "source": [
        "import heapq\n",
        "from heapq import heappop, heappush\n",
        "import lorem \n",
        " \n",
        "def isLeaf(root):\n",
        "    return root.left is None and root.right is None\n",
        " \n",
        " \n",
        "# A Tree node\n",
        "class Node:\n",
        "    def __init__(self, ch, freq, left=None, right=None):\n",
        "        self.ch = ch\n",
        "        self.freq = freq\n",
        "        self.left = left\n",
        "        self.right = right\n",
        " \n",
        "    # Override the `__lt__()` function to make `Node` class work with priority queue\n",
        "    # such that the highest priority item has the lowest frequency\n",
        "    def __lt__(self, other):\n",
        "        return self.freq < other.freq\n",
        " \n",
        " \n",
        "# Traverse the Huffman Tree and store Huffman Codes in a dictionary\n",
        "def encode(root, s, huffman_code):\n",
        " \n",
        "    if root is None:\n",
        "        return\n",
        " \n",
        "    # found a leaf node\n",
        "    if isLeaf(root):\n",
        "        huffman_code[root.ch] = s if len(s) > 0 else '1'\n",
        " \n",
        "    encode(root.left, s + '0', huffman_code)\n",
        "    encode(root.right, s + '1', huffman_code)\n",
        " \n",
        " \n",
        "# Traverse the Huffman Tree and decode the encoded string\n",
        "def decode(root, index, s):\n",
        "    global dec\n",
        "    \n",
        "    if root is None:\n",
        "        return index\n",
        " \n",
        "    # found a leaf node\n",
        "    if isLeaf(root):\n",
        "        # dec.append(root.ch)\n",
        "        dec+=root.ch\n",
        "        print(root.ch, end='')\n",
        "        return index\n",
        " \n",
        "    index = index + 1\n",
        "    root = root.left if s[index] == '0' else root.right\n",
        "    return decode(root, index, s)\n",
        " \n",
        " \n",
        "# Builds Huffman Tree and decodes the given input text\n",
        "def buildHuffmanTree(text):\n",
        " \n",
        "    # base case: empty string\n",
        "    if len(text) == 0:\n",
        "        return None\n",
        " \n",
        "    # count the frequency of appearance of each character\n",
        "    # and store it in a dictionary\n",
        "    freq = {i: text.count(i) for i in set(text)}\n",
        "\n",
        "    # Create a priority queue to store live nodes of the Huffman tree.\n",
        "    pq = [Node(k, v) for k, v in freq.items()]\n",
        "    \n",
        "    heapq.heapify(pq)\n",
        "    \n",
        "\n",
        "    # do till there is more than one node in the queue\n",
        "    while len(pq) != 1:\n",
        " \n",
        "        # Remove the two nodes of the highest priority\n",
        "        # (the lowest frequency) from the queue\n",
        " \n",
        "        left = heappop(pq)\n",
        "        right = heappop(pq)\n",
        " \n",
        "        # create a new internal node with these two nodes as children and\n",
        "        # with a frequency equal to the sum of the two nodes' frequencies.\n",
        "        # Add the new node to the priority queue.\n",
        " \n",
        "        total = left.freq + right.freq\n",
        "        heappush(pq, Node(None, total, left, right))\n",
        " \n",
        "    # `root` stores pointer to the root of Huffman Tree\n",
        "    root = pq[0]\n",
        " \n",
        "    # traverse the Huffman tree and store the Huffman codes in a dictionary\n",
        "    huffmanCode = {}\n",
        "    \n",
        "    encode(root, '', huffmanCode)\n",
        "    \n",
        "    # print the Huffman codes\n",
        "    print('Huffman Codes are:', huffmanCode)\n",
        "    print('The original string is:', text)\n",
        " \n",
        "    # print the encoded string\n",
        "    s = ''\n",
        "    for c in text:\n",
        "        s += huffmanCode.get(c)\n",
        "        \n",
        "    # print('The encoded string is:', s)\n",
        "    # print('The decoded string is:', end=' ')\n",
        "    dec=''\n",
        "    if isLeaf(root):\n",
        "        # Special case: For input like a, aa, aaa, etc.\n",
        "        \n",
        "        while root.freq > 0:\n",
        "            print(root.ch, end='')\n",
        "            # dec+=root.ch\n",
        "            root.freq = root.freq - 1\n",
        "    else:\n",
        "        # traverse the Huffman Tree again and this time,\n",
        "        # decode the encoded string\n",
        "        index = -1\n",
        "        while index < len(s) - 1:\n",
        "            index = decode(root, index, s)\n",
        "    return s, huffmanCode\n",
        " \n",
        "# Huffman coding algorithm implementation in Python\n",
        "if __name__ == '__main__':\n",
        "    dec=''\n",
        "  \n",
        "   \n",
        "  "
      ]
    },
    {
      "cell_type": "code",
      "source": [
        "\n",
        "text=lorem.get_word(count=333)\n",
        "print(text)\n",
        "\n",
        "s, huffmanCode =buildHuffmanTree(text)\n",
        "\n"
      ],
      "metadata": {
        "colab": {
          "base_uri": "https://localhost:8080/"
        },
        "id": "D0JMRz2THB8Y",
        "outputId": "fbd796ce-22c0-4c5b-b091-0af292c2d77d"
      },
      "execution_count": 16,
      "outputs": [
        {
          "output_type": "stream",
          "name": "stdout",
          "text": [
            "commodo reprehenderit exercitation sed aliqua nisi mollit ipsum amet labore officia do ex lorem quis voluptate sed cupidatat dolore enim dolor cillum aliqua dolore cillum do culpa qui deserunt proident aute velit dolor elit sit consequat voluptate nostrud aliquip reprehenderit exercitation lorem deserunt in mollit elit amet commodo in velit non pariatur officia nostrud esse dolore qui tempor magna anim proident occaecat in pariatur proident cupidatat irure anim amet consectetur est officia minim adipiscing laboris eiusmod minim pariatur anim labore voluptate irure nulla amet aliquip velit consequat irure proident sunt tempor id ullamco duis labore nulla quis ullamco duis proident sint consectetur ipsum in incididunt cillum sed proident id id sit ullamco ipsum ea eiusmod incididunt irure nisi aliquip dolor lorem laborum elit deserunt quis incididunt incididunt cillum tempor dolor exercitation officia sit ad culpa sunt lorem aliqua nostrud officia consectetur dolore aliquip velit occaecat velit eu ut labore officia aliqua sint ullamco proident ipsum duis cupidatat reprehenderit commodo aliquip cillum irure amet voluptate est nisi nulla veniam enim incididunt fugiat irure amet anim est aliqua enim pariatur anim fugiat eiusmod deserunt anim ad minim aliqua dolore duis ut elit deserunt fugiat consectetur laborum proident eu aliqua ex incididunt lorem elit voluptate adipiscing qui commodo duis qui est in ipsum consequat ullamco anim officia cillum proident ad adipiscing laborum quis duis magna et exercitation esse adipiscing elit adipiscing magna esse magna quis officia non est in dolore deserunt laboris consectetur fugiat excepteur tempor aute amet id voluptate aliqua magna consectetur aliqua excepteur reprehenderit laboris esse tempor aliqua cupidatat laborum culpa lorem ut dolore ut ut consequat ut mollit ullamco elit amet ipsum elit aliquip reprehenderit proident sit nulla nulla officia quis eu non sit et reprehenderit ut ipsum ut id eiusmod laborum nisi et labore consectetur qui mollit id consequat aute dolore ea nostrud do cillum esse deserunt ut nisi in pariatur tempor fugiat nostrud reprehenderit laborum pariatur ipsum irure aute voluptate duis ut pariatur occaecat enim minim id ipsum commodo laboris ad\n",
            "Huffman Codes are: {'d': '0000', 'n': '0001', 'f': '001000', 'v': '0010010', 'b': '0010011', 'g': '0010100', 'h': '00101010', 'x': '00101011', 'q': '001011', 'l': '0011', 'i': '010', 'r': '0110', 'o': '0111', 'p': '10000', 'c': '10001', 'a': '1001', 'u': '1010', 't': '1011', ' ': '110', 'm': '11100', 's': '11101', 'e': '1111'}\n",
            "The original string is: commodo reprehenderit exercitation sed aliqua nisi mollit ipsum amet labore officia do ex lorem quis voluptate sed cupidatat dolore enim dolor cillum aliqua dolore cillum do culpa qui deserunt proident aute velit dolor elit sit consequat voluptate nostrud aliquip reprehenderit exercitation lorem deserunt in mollit elit amet commodo in velit non pariatur officia nostrud esse dolore qui tempor magna anim proident occaecat in pariatur proident cupidatat irure anim amet consectetur est officia minim adipiscing laboris eiusmod minim pariatur anim labore voluptate irure nulla amet aliquip velit consequat irure proident sunt tempor id ullamco duis labore nulla quis ullamco duis proident sint consectetur ipsum in incididunt cillum sed proident id id sit ullamco ipsum ea eiusmod incididunt irure nisi aliquip dolor lorem laborum elit deserunt quis incididunt incididunt cillum tempor dolor exercitation officia sit ad culpa sunt lorem aliqua nostrud officia consectetur dolore aliquip velit occaecat velit eu ut labore officia aliqua sint ullamco proident ipsum duis cupidatat reprehenderit commodo aliquip cillum irure amet voluptate est nisi nulla veniam enim incididunt fugiat irure amet anim est aliqua enim pariatur anim fugiat eiusmod deserunt anim ad minim aliqua dolore duis ut elit deserunt fugiat consectetur laborum proident eu aliqua ex incididunt lorem elit voluptate adipiscing qui commodo duis qui est in ipsum consequat ullamco anim officia cillum proident ad adipiscing laborum quis duis magna et exercitation esse adipiscing elit adipiscing magna esse magna quis officia non est in dolore deserunt laboris consectetur fugiat excepteur tempor aute amet id voluptate aliqua magna consectetur aliqua excepteur reprehenderit laboris esse tempor aliqua cupidatat laborum culpa lorem ut dolore ut ut consequat ut mollit ullamco elit amet ipsum elit aliquip reprehenderit proident sit nulla nulla officia quis eu non sit et reprehenderit ut ipsum ut id eiusmod laborum nisi et labore consectetur qui mollit id consequat aute dolore ea nostrud do cillum esse deserunt ut nisi in pariatur tempor fugiat nostrud reprehenderit laborum pariatur ipsum irure aute voluptate duis ut pariatur occaecat enim minim id ipsum commodo laboris ad\n",
            "commodo reprehenderit exercitation sed aliqua nisi mollit ipsum amet labore officia do ex lorem quis voluptate sed cupidatat dolore enim dolor cillum aliqua dolore cillum do culpa qui deserunt proident aute velit dolor elit sit consequat voluptate nostrud aliquip reprehenderit exercitation lorem deserunt in mollit elit amet commodo in velit non pariatur officia nostrud esse dolore qui tempor magna anim proident occaecat in pariatur proident cupidatat irure anim amet consectetur est officia minim adipiscing laboris eiusmod minim pariatur anim labore voluptate irure nulla amet aliquip velit consequat irure proident sunt tempor id ullamco duis labore nulla quis ullamco duis proident sint consectetur ipsum in incididunt cillum sed proident id id sit ullamco ipsum ea eiusmod incididunt irure nisi aliquip dolor lorem laborum elit deserunt quis incididunt incididunt cillum tempor dolor exercitation officia sit ad culpa sunt lorem aliqua nostrud officia consectetur dolore aliquip velit occaecat velit eu ut labore officia aliqua sint ullamco proident ipsum duis cupidatat reprehenderit commodo aliquip cillum irure amet voluptate est nisi nulla veniam enim incididunt fugiat irure amet anim est aliqua enim pariatur anim fugiat eiusmod deserunt anim ad minim aliqua dolore duis ut elit deserunt fugiat consectetur laborum proident eu aliqua ex incididunt lorem elit voluptate adipiscing qui commodo duis qui est in ipsum consequat ullamco anim officia cillum proident ad adipiscing laborum quis duis magna et exercitation esse adipiscing elit adipiscing magna esse magna quis officia non est in dolore deserunt laboris consectetur fugiat excepteur tempor aute amet id voluptate aliqua magna consectetur aliqua excepteur reprehenderit laboris esse tempor aliqua cupidatat laborum culpa lorem ut dolore ut ut consequat ut mollit ullamco elit amet ipsum elit aliquip reprehenderit proident sit nulla nulla officia quis eu non sit et reprehenderit ut ipsum ut id eiusmod laborum nisi et labore consectetur qui mollit id consequat aute dolore ea nostrud do cillum esse deserunt ut nisi in pariatur tempor fugiat nostrud reprehenderit laborum pariatur ipsum irure aute voluptate duis ut pariatur occaecat enim minim id ipsum commodo laboris ad"
          ]
        }
      ]
    }
  ]
}