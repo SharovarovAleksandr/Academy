{
  "nbformat": 4,
  "nbformat_minor": 0,
  "metadata": {
    "colab": {
      "provenance": [],
      "gpuType": "T4",
      "authorship_tag": "ABX9TyNd4kkCf/jBIc8sZTpr36O5",
      "include_colab_link": true
    },
    "kernelspec": {
      "name": "python3",
      "display_name": "Python 3"
    },
    "language_info": {
      "name": "python"
    },
    "gpuClass": "standard"
  },
  "cells": [
    {
      "cell_type": "markdown",
      "metadata": {
        "id": "view-in-github",
        "colab_type": "text"
      },
      "source": [
        "<a href=\"https://colab.research.google.com/github/SharovarovAleksandr/Academy/blob/main/Lesson68/Lesson68_1.ipynb\" target=\"_parent\"><img src=\"https://colab.research.google.com/assets/colab-badge.svg\" alt=\"Open In Colab\"/></a>"
      ]
    },
    {
      "cell_type": "code",
      "source": [
        "import torch\n",
        "print(torch.__version__)"
      ],
      "metadata": {
        "colab": {
          "base_uri": "https://localhost:8080/"
        },
        "id": "kUKFOQMtGa1w",
        "outputId": "9d2dfee8-3cf1-41a4-ad57-77ba1dc4af47"
      },
      "execution_count": 1,
      "outputs": [
        {
          "output_type": "stream",
          "name": "stdout",
          "text": [
            "2.0.0+cu118\n"
          ]
        }
      ]
    },
    {
      "cell_type": "code",
      "execution_count": 2,
      "metadata": {
        "id": "nB5kfq_FGD55"
      },
      "outputs": [],
      "source": [
        "import torch\n",
        "import torch.nn as nn\n",
        "import torch.optim as opt\n",
        "torch.set_printoptions(linewidth=120)\n",
        "import torch.nn.functional as F\n",
        "import torchvision\n",
        "import torchvision.transforms as transforms\n",
        "from torch.utils.tensorboard import SummaryWriter"
      ]
    },
    {
      "cell_type": "code",
      "source": [
        "class CNN(nn.Module):\n",
        "    def __init__(self):\n",
        "        super().__init__()\n",
        "        self.conv1 = nn.Conv2d(in_channels=1, out_channels=6, kernel_size=5)\n",
        "        self.conv2 = nn.Conv2d(in_channels=6, out_channels=12, kernel_size=5)\n",
        "\n",
        "        self.fc1 = nn.Linear(in_features=12*4*4, out_features=120)\n",
        "        self.fc2 = nn.Linear(in_features=120, out_features=60)\n",
        "        self.out = nn.Linear(in_features=60, out_features=10)\n",
        "\n",
        "    def forward(self, x):\n",
        "        x = F.relu(self.conv1(x))\n",
        "        x = F.max_pool2d(x, kernel_size = 2, stride = 2)\n",
        "        x = F.relu(self.conv2(x))\n",
        "        x = F.max_pool2d(x, kernel_size = 2, stride = 2)\n",
        "        x = torch.flatten(x,start_dim = 1)\n",
        "        x = F.relu(self.fc1(x))\n",
        "        x = F.relu(self.fc2(x))\n",
        "        x = self.out(x)\n",
        "\n",
        "        return x"
      ],
      "metadata": {
        "id": "EHl0BS67GKWi"
      },
      "execution_count": 3,
      "outputs": []
    },
    {
      "cell_type": "code",
      "source": [
        "train_set = torchvision.datasets.FashionMNIST(root=\"./data\",\n",
        "train = True,\n",
        " download=True,\n",
        "transform=transforms.ToTensor())\n",
        "train_loader = torch.utils.data.DataLoader(train_set,\n",
        "                                           batch_size = 100,\n",
        "                                           shuffle = True)"
      ],
      "metadata": {
        "colab": {
          "base_uri": "https://localhost:8080/"
        },
        "id": "RVk9qHbXGP7Y",
        "outputId": "4b21a16b-4290-49ad-99b6-1f163611404f"
      },
      "execution_count": 4,
      "outputs": [
        {
          "output_type": "stream",
          "name": "stdout",
          "text": [
            "Downloading http://fashion-mnist.s3-website.eu-central-1.amazonaws.com/train-images-idx3-ubyte.gz\n",
            "Downloading http://fashion-mnist.s3-website.eu-central-1.amazonaws.com/train-images-idx3-ubyte.gz to ./data/FashionMNIST/raw/train-images-idx3-ubyte.gz\n"
          ]
        },
        {
          "output_type": "stream",
          "name": "stderr",
          "text": [
            "100%|██████████| 26421880/26421880 [00:02<00:00, 11787098.98it/s]\n"
          ]
        },
        {
          "output_type": "stream",
          "name": "stdout",
          "text": [
            "Extracting ./data/FashionMNIST/raw/train-images-idx3-ubyte.gz to ./data/FashionMNIST/raw\n",
            "\n",
            "Downloading http://fashion-mnist.s3-website.eu-central-1.amazonaws.com/train-labels-idx1-ubyte.gz\n",
            "Downloading http://fashion-mnist.s3-website.eu-central-1.amazonaws.com/train-labels-idx1-ubyte.gz to ./data/FashionMNIST/raw/train-labels-idx1-ubyte.gz\n"
          ]
        },
        {
          "output_type": "stream",
          "name": "stderr",
          "text": [
            "100%|██████████| 29515/29515 [00:00<00:00, 210971.09it/s]\n"
          ]
        },
        {
          "output_type": "stream",
          "name": "stdout",
          "text": [
            "Extracting ./data/FashionMNIST/raw/train-labels-idx1-ubyte.gz to ./data/FashionMNIST/raw\n",
            "\n",
            "Downloading http://fashion-mnist.s3-website.eu-central-1.amazonaws.com/t10k-images-idx3-ubyte.gz\n",
            "Downloading http://fashion-mnist.s3-website.eu-central-1.amazonaws.com/t10k-images-idx3-ubyte.gz to ./data/FashionMNIST/raw/t10k-images-idx3-ubyte.gz\n"
          ]
        },
        {
          "output_type": "stream",
          "name": "stderr",
          "text": [
            "100%|██████████| 4422102/4422102 [00:01<00:00, 3852406.06it/s]\n"
          ]
        },
        {
          "output_type": "stream",
          "name": "stdout",
          "text": [
            "Extracting ./data/FashionMNIST/raw/t10k-images-idx3-ubyte.gz to ./data/FashionMNIST/raw\n",
            "\n",
            "Downloading http://fashion-mnist.s3-website.eu-central-1.amazonaws.com/t10k-labels-idx1-ubyte.gz\n",
            "Downloading http://fashion-mnist.s3-website.eu-central-1.amazonaws.com/t10k-labels-idx1-ubyte.gz to ./data/FashionMNIST/raw/t10k-labels-idx1-ubyte.gz\n"
          ]
        },
        {
          "output_type": "stream",
          "name": "stderr",
          "text": [
            "100%|██████████| 5148/5148 [00:00<00:00, 6341344.20it/s]"
          ]
        },
        {
          "output_type": "stream",
          "name": "stdout",
          "text": [
            "Extracting ./data/FashionMNIST/raw/t10k-labels-idx1-ubyte.gz to ./data/FashionMNIST/raw\n",
            "\n"
          ]
        },
        {
          "output_type": "stream",
          "name": "stderr",
          "text": [
            "\n"
          ]
        }
      ]
    },
    {
      "cell_type": "code",
      "source": [
        "tb = SummaryWriter()\n",
        "model = CNN()\n",
        "images, labels = next(iter(train_loader))\n",
        "grid = torchvision.utils.make_grid(images)\n",
        "tb.add_image(\"images\", grid)\n",
        "tb.add_graph(model, images)\n",
        "tb.close()"
      ],
      "metadata": {
        "id": "XAcxaiXaGQ8t"
      },
      "execution_count": 5,
      "outputs": []
    },
    {
      "cell_type": "code",
      "source": [
        "model = CNN()\n",
        "train_loader = torch.utils.data.DataLoader(train_set,batch_size = 100, shuffle = True)\n",
        "optimizer = opt.Adam(model.parameters(), lr= 0.01)\n",
        "criterion = torch.nn.CrossEntropyLoss()\n",
        "\n",
        "tb = SummaryWriter()\n",
        "\n",
        "def get_num_correct(preds, labels):\n",
        "    return preds.argmax(dim=1).eq(labels).sum().item()\n",
        "\n",
        "for epoch in range(10):\n",
        "\n",
        "    total_loss = 0\n",
        "    total_correct = 0\n",
        "\n",
        "    for images, labels in train_loader:\n",
        "        images, labels = images, labels\n",
        "        preds = model(images)\n",
        "\n",
        "        loss = criterion(preds, labels)\n",
        "        total_loss+= loss.item()\n",
        "        total_correct+= get_num_correct(preds, labels)\n",
        "\n",
        "        optimizer.zero_grad()\n",
        "        loss.backward()\n",
        "        optimizer.step()\n",
        "\n",
        "    tb.add_scalar(\"Loss\", total_loss, epoch)\n",
        "    tb.add_scalar(\"Correct\", total_correct, epoch)\n",
        "    tb.add_scalar(\"Accuracy\", total_correct/ len(train_set), epoch)\n",
        "\n",
        "    tb.add_histogram(\"conv1.bias\", model.conv1.bias, epoch)\n",
        "    tb.add_histogram(\"conv1.weight\", model.conv1.weight, epoch)\n",
        "    tb.add_histogram(\"conv2.bias\", model.conv2.bias, epoch)\n",
        "    tb.add_histogram(\"conv2.weight\", model.conv2.weight, epoch)\n",
        "\n",
        "    print(\"epoch:\", epoch, \"total_correct:\", total_correct, \"loss:\",total_loss)\n",
        "\n",
        "tb.close()"
      ],
      "metadata": {
        "colab": {
          "base_uri": "https://localhost:8080/"
        },
        "id": "cbJjxUuNGV4w",
        "outputId": "60804432-d7a3-4151-b7a8-32985a3fb0ee"
      },
      "execution_count": 6,
      "outputs": [
        {
          "output_type": "stream",
          "name": "stdout",
          "text": [
            "epoch: 0 total_correct: 47172 loss: 337.493566557765\n",
            "epoch: 1 total_correct: 51618 loss: 226.56303334236145\n",
            "epoch: 2 total_correct: 52226 loss: 210.2185563594103\n",
            "epoch: 3 total_correct: 52549 loss: 202.32719308137894\n",
            "epoch: 4 total_correct: 52767 loss: 195.65952222049236\n",
            "epoch: 5 total_correct: 52939 loss: 191.99009428918362\n",
            "epoch: 6 total_correct: 53090 loss: 186.0276947170496\n",
            "epoch: 7 total_correct: 53152 loss: 184.51015546917915\n",
            "epoch: 8 total_correct: 53219 loss: 185.0293107032776\n",
            "epoch: 9 total_correct: 53466 loss: 178.66344910860062\n"
          ]
        }
      ]
    }
  ]
}