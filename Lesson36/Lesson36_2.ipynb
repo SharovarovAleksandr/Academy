{
 "cells": [
  {
   "cell_type": "markdown",
   "id": "03539835",
   "metadata": {},
   "source": [
    "### Завдання 2\n",
    "\n",
    "Проведіть крос-валідацію для моделі, побудованої на основі датафрейму  petrol_consumption. Обґрунтуйте обраний метод крос-валідації."
   ]
  },
  {
   "cell_type": "code",
   "execution_count": 1,
   "id": "adf3a83a",
   "metadata": {},
   "outputs": [],
   "source": [
    "import pandas as pd\n",
    "import numpy as np\n",
    "import sklearn\n",
    "import openpyxl\n",
    "import matplotlib.pyplot as plt\n",
    "from sklearn.linear_model import LinearRegression\n",
    "from sklearn.model_selection import KFold, StratifiedKFold, cross_val_score\n",
    "from sklearn.model_selection import train_test_split\n",
    "from sklearn.metrics import mean_absolute_error, mean_squared_error"
   ]
  },
  {
   "cell_type": "code",
   "execution_count": 30,
   "id": "5dbd7bf0",
   "metadata": {},
   "outputs": [
    {
     "data": {
      "text/html": [
       "<div>\n",
       "<style scoped>\n",
       "    .dataframe tbody tr th:only-of-type {\n",
       "        vertical-align: middle;\n",
       "    }\n",
       "\n",
       "    .dataframe tbody tr th {\n",
       "        vertical-align: top;\n",
       "    }\n",
       "\n",
       "    .dataframe thead th {\n",
       "        text-align: right;\n",
       "    }\n",
       "</style>\n",
       "<table border=\"1\" class=\"dataframe\">\n",
       "  <thead>\n",
       "    <tr style=\"text-align: right;\">\n",
       "      <th></th>\n",
       "      <th>Petrol_tax</th>\n",
       "      <th>Average_income</th>\n",
       "      <th>Paved_Highways</th>\n",
       "      <th>Population_Driver_licence(%)</th>\n",
       "      <th>Petrol_Consumption</th>\n",
       "    </tr>\n",
       "  </thead>\n",
       "  <tbody>\n",
       "    <tr>\n",
       "      <th>0</th>\n",
       "      <td>9.0</td>\n",
       "      <td>3571</td>\n",
       "      <td>1976</td>\n",
       "      <td>0.525</td>\n",
       "      <td>541</td>\n",
       "    </tr>\n",
       "    <tr>\n",
       "      <th>1</th>\n",
       "      <td>9.0</td>\n",
       "      <td>4092</td>\n",
       "      <td>1250</td>\n",
       "      <td>0.572</td>\n",
       "      <td>524</td>\n",
       "    </tr>\n",
       "    <tr>\n",
       "      <th>2</th>\n",
       "      <td>9.0</td>\n",
       "      <td>3865</td>\n",
       "      <td>1586</td>\n",
       "      <td>0.580</td>\n",
       "      <td>561</td>\n",
       "    </tr>\n",
       "    <tr>\n",
       "      <th>3</th>\n",
       "      <td>7.5</td>\n",
       "      <td>4870</td>\n",
       "      <td>2351</td>\n",
       "      <td>0.529</td>\n",
       "      <td>414</td>\n",
       "    </tr>\n",
       "    <tr>\n",
       "      <th>4</th>\n",
       "      <td>8.0</td>\n",
       "      <td>4399</td>\n",
       "      <td>431</td>\n",
       "      <td>0.544</td>\n",
       "      <td>410</td>\n",
       "    </tr>\n",
       "  </tbody>\n",
       "</table>\n",
       "</div>"
      ],
      "text/plain": [
       "   Petrol_tax  Average_income  Paved_Highways  Population_Driver_licence(%)  \\\n",
       "0         9.0            3571            1976                         0.525   \n",
       "1         9.0            4092            1250                         0.572   \n",
       "2         9.0            3865            1586                         0.580   \n",
       "3         7.5            4870            2351                         0.529   \n",
       "4         8.0            4399             431                         0.544   \n",
       "\n",
       "   Petrol_Consumption  \n",
       "0                 541  \n",
       "1                 524  \n",
       "2                 561  \n",
       "3                 414  \n",
       "4                 410  "
      ]
     },
     "execution_count": 30,
     "metadata": {},
     "output_type": "execute_result"
    }
   ],
   "source": [
    "df=pd.read_csv('https://raw.githubusercontent.com/Startup-acdm/PDS1/3810a4a8a7a352810d551cb3da52310a7dab1db8/Lesson%2035/petrol_consumption.csv?token=GHSAT0AAAAAAB5FDR3Z5NKYCBQQBDNDL4Y4Y7WOFEQ')\n",
    "df.head(5)"
   ]
  },
  {
   "cell_type": "code",
   "execution_count": 31,
   "id": "40252049",
   "metadata": {},
   "outputs": [
    {
     "data": {
      "text/html": [
       "<div>\n",
       "<style scoped>\n",
       "    .dataframe tbody tr th:only-of-type {\n",
       "        vertical-align: middle;\n",
       "    }\n",
       "\n",
       "    .dataframe tbody tr th {\n",
       "        vertical-align: top;\n",
       "    }\n",
       "\n",
       "    .dataframe thead th {\n",
       "        text-align: right;\n",
       "    }\n",
       "</style>\n",
       "<table border=\"1\" class=\"dataframe\">\n",
       "  <thead>\n",
       "    <tr style=\"text-align: right;\">\n",
       "      <th></th>\n",
       "      <th>Petrol_tax</th>\n",
       "      <th>Average_income</th>\n",
       "      <th>Paved_Highways</th>\n",
       "      <th>Population_Driver_licence(%)</th>\n",
       "      <th>Petrol_Consumption</th>\n",
       "    </tr>\n",
       "  </thead>\n",
       "  <tbody>\n",
       "    <tr>\n",
       "      <th>count</th>\n",
       "      <td>48.000000</td>\n",
       "      <td>48.000000</td>\n",
       "      <td>48.000000</td>\n",
       "      <td>48.000000</td>\n",
       "      <td>48.000000</td>\n",
       "    </tr>\n",
       "    <tr>\n",
       "      <th>mean</th>\n",
       "      <td>7.668333</td>\n",
       "      <td>4241.833333</td>\n",
       "      <td>5565.416667</td>\n",
       "      <td>0.570333</td>\n",
       "      <td>576.770833</td>\n",
       "    </tr>\n",
       "    <tr>\n",
       "      <th>std</th>\n",
       "      <td>0.950770</td>\n",
       "      <td>573.623768</td>\n",
       "      <td>3491.507166</td>\n",
       "      <td>0.055470</td>\n",
       "      <td>111.885816</td>\n",
       "    </tr>\n",
       "    <tr>\n",
       "      <th>min</th>\n",
       "      <td>5.000000</td>\n",
       "      <td>3063.000000</td>\n",
       "      <td>431.000000</td>\n",
       "      <td>0.451000</td>\n",
       "      <td>344.000000</td>\n",
       "    </tr>\n",
       "    <tr>\n",
       "      <th>25%</th>\n",
       "      <td>7.000000</td>\n",
       "      <td>3739.000000</td>\n",
       "      <td>3110.250000</td>\n",
       "      <td>0.529750</td>\n",
       "      <td>509.500000</td>\n",
       "    </tr>\n",
       "    <tr>\n",
       "      <th>50%</th>\n",
       "      <td>7.500000</td>\n",
       "      <td>4298.000000</td>\n",
       "      <td>4735.500000</td>\n",
       "      <td>0.564500</td>\n",
       "      <td>568.500000</td>\n",
       "    </tr>\n",
       "    <tr>\n",
       "      <th>75%</th>\n",
       "      <td>8.125000</td>\n",
       "      <td>4578.750000</td>\n",
       "      <td>7156.000000</td>\n",
       "      <td>0.595250</td>\n",
       "      <td>632.750000</td>\n",
       "    </tr>\n",
       "    <tr>\n",
       "      <th>max</th>\n",
       "      <td>10.000000</td>\n",
       "      <td>5342.000000</td>\n",
       "      <td>17782.000000</td>\n",
       "      <td>0.724000</td>\n",
       "      <td>968.000000</td>\n",
       "    </tr>\n",
       "  </tbody>\n",
       "</table>\n",
       "</div>"
      ],
      "text/plain": [
       "       Petrol_tax  Average_income  Paved_Highways  \\\n",
       "count   48.000000       48.000000       48.000000   \n",
       "mean     7.668333     4241.833333     5565.416667   \n",
       "std      0.950770      573.623768     3491.507166   \n",
       "min      5.000000     3063.000000      431.000000   \n",
       "25%      7.000000     3739.000000     3110.250000   \n",
       "50%      7.500000     4298.000000     4735.500000   \n",
       "75%      8.125000     4578.750000     7156.000000   \n",
       "max     10.000000     5342.000000    17782.000000   \n",
       "\n",
       "       Population_Driver_licence(%)  Petrol_Consumption  \n",
       "count                     48.000000           48.000000  \n",
       "mean                       0.570333          576.770833  \n",
       "std                        0.055470          111.885816  \n",
       "min                        0.451000          344.000000  \n",
       "25%                        0.529750          509.500000  \n",
       "50%                        0.564500          568.500000  \n",
       "75%                        0.595250          632.750000  \n",
       "max                        0.724000          968.000000  "
      ]
     },
     "execution_count": 31,
     "metadata": {},
     "output_type": "execute_result"
    }
   ],
   "source": [
    "df.describe()"
   ]
  },
  {
   "cell_type": "code",
   "execution_count": 6,
   "id": "bfbd5e95",
   "metadata": {},
   "outputs": [],
   "source": [
    "X=np.array(df[['Petrol_tax','Average_income','Paved_Highways','Population_Driver_licence(%)']])\n",
    "y=np.array(df[['Petrol_Consumption']])"
   ]
  },
  {
   "cell_type": "code",
   "execution_count": 10,
   "id": "160b3e62",
   "metadata": {
    "scrolled": true
   },
   "outputs": [
    {
     "data": {
      "text/html": [
       "<div>\n",
       "<style scoped>\n",
       "    .dataframe tbody tr th:only-of-type {\n",
       "        vertical-align: middle;\n",
       "    }\n",
       "\n",
       "    .dataframe tbody tr th {\n",
       "        vertical-align: top;\n",
       "    }\n",
       "\n",
       "    .dataframe thead th {\n",
       "        text-align: right;\n",
       "    }\n",
       "</style>\n",
       "<table border=\"1\" class=\"dataframe\">\n",
       "  <thead>\n",
       "    <tr style=\"text-align: right;\">\n",
       "      <th></th>\n",
       "      <th>Petrol_tax</th>\n",
       "      <th>Average_income</th>\n",
       "      <th>Paved_Highways</th>\n",
       "      <th>Population_Driver_licence(%)</th>\n",
       "      <th>Petrol_Consumption</th>\n",
       "    </tr>\n",
       "  </thead>\n",
       "  <tbody>\n",
       "    <tr>\n",
       "      <th>Petrol_tax</th>\n",
       "      <td>1.000000</td>\n",
       "      <td>0.012665</td>\n",
       "      <td>-0.522130</td>\n",
       "      <td>-0.288037</td>\n",
       "      <td>-0.451280</td>\n",
       "    </tr>\n",
       "    <tr>\n",
       "      <th>Average_income</th>\n",
       "      <td>0.012665</td>\n",
       "      <td>1.000000</td>\n",
       "      <td>0.050163</td>\n",
       "      <td>0.157070</td>\n",
       "      <td>-0.244862</td>\n",
       "    </tr>\n",
       "    <tr>\n",
       "      <th>Paved_Highways</th>\n",
       "      <td>-0.522130</td>\n",
       "      <td>0.050163</td>\n",
       "      <td>1.000000</td>\n",
       "      <td>-0.064129</td>\n",
       "      <td>0.019042</td>\n",
       "    </tr>\n",
       "    <tr>\n",
       "      <th>Population_Driver_licence(%)</th>\n",
       "      <td>-0.288037</td>\n",
       "      <td>0.157070</td>\n",
       "      <td>-0.064129</td>\n",
       "      <td>1.000000</td>\n",
       "      <td>0.698965</td>\n",
       "    </tr>\n",
       "    <tr>\n",
       "      <th>Petrol_Consumption</th>\n",
       "      <td>-0.451280</td>\n",
       "      <td>-0.244862</td>\n",
       "      <td>0.019042</td>\n",
       "      <td>0.698965</td>\n",
       "      <td>1.000000</td>\n",
       "    </tr>\n",
       "  </tbody>\n",
       "</table>\n",
       "</div>"
      ],
      "text/plain": [
       "                              Petrol_tax  Average_income  Paved_Highways  \\\n",
       "Petrol_tax                      1.000000        0.012665       -0.522130   \n",
       "Average_income                  0.012665        1.000000        0.050163   \n",
       "Paved_Highways                 -0.522130        0.050163        1.000000   \n",
       "Population_Driver_licence(%)   -0.288037        0.157070       -0.064129   \n",
       "Petrol_Consumption             -0.451280       -0.244862        0.019042   \n",
       "\n",
       "                              Population_Driver_licence(%)  Petrol_Consumption  \n",
       "Petrol_tax                                       -0.288037           -0.451280  \n",
       "Average_income                                    0.157070           -0.244862  \n",
       "Paved_Highways                                   -0.064129            0.019042  \n",
       "Population_Driver_licence(%)                      1.000000            0.698965  \n",
       "Petrol_Consumption                                0.698965            1.000000  "
      ]
     },
     "execution_count": 10,
     "metadata": {},
     "output_type": "execute_result"
    }
   ],
   "source": [
    "cor=df.corr()\n",
    "cor"
   ]
  },
  {
   "cell_type": "markdown",
   "id": "38b922ba",
   "metadata": {},
   "source": [
    "#### Проведемо розрахунки для вибірки з використанням функції train_test_split та побудуємо різні моделі\n",
    "\n",
    "#### Модель 1 з параметрами  \n",
    "test_size=0.2  \n",
    "random_state=None  \n",
    "shuffle=True  "
   ]
  },
  {
   "cell_type": "code",
   "execution_count": 37,
   "id": "eac39881",
   "metadata": {},
   "outputs": [
    {
     "name": "stdout",
     "output_type": "stream",
     "text": [
      "Функція регресії має вигляд - Y=378.8611+-37.5736*X1+-0.0580*X2+-0.0042*X3+1333.8606*X4\n",
      "Достовірність моделі на тренувальних даних: Score= 0.7293\n",
      "Достовірність моделі на тестових даних: Score= 0.3606\n",
      "Достовірність моделі на повній виборці: Score= 0.6726\n",
      "mae = 67.863546\n",
      "mse_test = 6191.482912, mse_all = 4013.084714\n",
      "mrse= 78.685977\n"
     ]
    }
   ],
   "source": [
    "model = LinearRegression()\n",
    "X_train, X_test, y_train, y_test = sklearn.model_selection.train_test_split(X, y, test_size=0.2)\n",
    "model.fit(X_train,y_train)\n",
    "a=model.intercept_[0]\n",
    "b=model.coef_[0]\n",
    "y_pred=model.predict(X_test)\n",
    "y_pred_all=model.predict(X)\n",
    "print('Функція регресії має вигляд - Y={:.4f}+{:.4f}*X1+{:.4f}*X2+{:.4f}*X3+{:.4f}*X4'.format(a,b[0],b[1],b[2],b[3]))\n",
    "print('Достовірність моделі на тренувальних даних: Score= {:.4f}'.format(model.score(X_train, y_train)))\n",
    "print('Достовірність моделі на тестових даних: Score= {:.4f}'.format(model.score(X_test, y_test)))\n",
    "print('Достовірність моделі на повній виборці: Score= {:.4f}'.format(model.score(X, y)))\n",
    "print(f'mae = {mean_absolute_error(y_test,y_pred):4f}' )\n",
    "print(f'mse_test = {mean_squared_error(y_test,y_pred):4f}, mse_all = {mean_squared_error(y,y_pred_all):4f}')\n",
    "mrse=mean_squared_error(y_test,y_pred)**0.5\n",
    "print(f'mrse= {mrse:4f}')"
   ]
  },
  {
   "cell_type": "markdown",
   "id": "04b2c3d3",
   "metadata": {},
   "source": [
    "#### Модель 2 з параметрами \n",
    "\n",
    "test_size=0.2  \n",
    "random_state=None  \n",
    "shuffle=False "
   ]
  },
  {
   "cell_type": "code",
   "execution_count": 38,
   "id": "123fbc08",
   "metadata": {},
   "outputs": [
    {
     "name": "stdout",
     "output_type": "stream",
     "text": [
      "Функція регресії має вигляд - Y=218.7732+-12.2979*X1+-0.0729*X2+0.0029*X3+1292.5094*X4\n",
      "Достовірність моделі на тренувальних даних: Score= 0.7231\n",
      "Достовірність моделі на тестових даних: Score= 0.2919\n",
      "Достовірність моделі на повній виборці: Score= 0.6382\n",
      "mae = 79.582309\n",
      "mse_test = 11721.964814, mse_all = 4434.381296\n",
      "mrse= 108.268023\n"
     ]
    }
   ],
   "source": [
    "X_train, X_test, y_train, y_test = sklearn.model_selection.train_test_split(X, y, test_size=0.2,  shuffle=False)\n",
    "model.fit(X_train,y_train)\n",
    "a=model.intercept_[0]\n",
    "b=model.coef_[0]\n",
    "y_pred=model.predict(X_test)\n",
    "y_pred_all=model.predict(X)\n",
    "print('Функція регресії має вигляд - Y={:.4f}+{:.4f}*X1+{:.4f}*X2+{:.4f}*X3+{:.4f}*X4'.format(a,b[0],b[1],b[2],b[3]))\n",
    "print('Достовірність моделі на тренувальних даних: Score= {:.4f}'.format(model.score(X_train, y_train)))\n",
    "print('Достовірність моделі на тестових даних: Score= {:.4f}'.format(model.score(X_test, y_test)))\n",
    "print('Достовірність моделі на повній виборці: Score= {:.4f}'.format(model.score(X, y)))\n",
    "print(f'mae = {mean_absolute_error(y_test,y_pred):4f}' )\n",
    "print(f'mse_test = {mean_squared_error(y_test,y_pred):4f}, mse_all = {mean_squared_error(y,y_pred_all):4f}')\n",
    "mrse=mean_squared_error(y_test,y_pred)**0.5\n",
    "print(f'mrse= {mrse:4f}')\n"
   ]
  },
  {
   "cell_type": "markdown",
   "id": "add614e8",
   "metadata": {},
   "source": [
    "#### Модель 3 з параметрами \n",
    "\n",
    "test_size=0.2  \n",
    "random_state=48    \n",
    "shuffle=True "
   ]
  },
  {
   "cell_type": "code",
   "execution_count": 39,
   "id": "abd9dab4",
   "metadata": {},
   "outputs": [
    {
     "name": "stdout",
     "output_type": "stream",
     "text": [
      "Функція регресії має вигляд - Y=344.5859+-35.3997*X1+-0.0587*X2+-0.0037*X3+1370.9393*X4\n",
      "Достовірність моделі на тренувальних даних: Score= 0.6896\n",
      "Достовірність моделі на тестових даних: Score= 0.4282\n",
      "Достовірність моделі на повній виборці: Score= 0.6690\n",
      "mae = 58.481805\n",
      "mse_test = 3983.845194, mse_all = 4057.778839\n",
      "mrse= 63.117709\n"
     ]
    }
   ],
   "source": [
    "X_train, X_test, y_train, y_test = sklearn.model_selection.train_test_split(X, y, test_size=0.2,  random_state=48)\n",
    "model.fit(X_train,y_train)\n",
    "a=model.intercept_[0]\n",
    "b=model.coef_[0]\n",
    "y_pred=model.predict(X_test)\n",
    "y_pred_all=model.predict(X)\n",
    "print('Функція регресії має вигляд - Y={:.4f}+{:.4f}*X1+{:.4f}*X2+{:.4f}*X3+{:.4f}*X4'.format(a,b[0],b[1],b[2],b[3]))\n",
    "print('Достовірність моделі на тренувальних даних: Score= {:.4f}'.format(model.score(X_train, y_train)))\n",
    "print('Достовірність моделі на тестових даних: Score= {:.4f}'.format(model.score(X_test, y_test)))\n",
    "print('Достовірність моделі на повній виборці: Score= {:.4f}'.format(model.score(X, y)))\n",
    "print(f'mae = {mean_absolute_error(y_test,y_pred):4f}' )\n",
    "print(f'mse_test = {mean_squared_error(y_test,y_pred):4f}, mse_all = {mean_squared_error(y,y_pred_all):4f}')\n",
    "mrse=mean_squared_error(y_test,y_pred)**0.5\n",
    "print(f'mrse= {mrse:4f}')"
   ]
  },
  {
   "cell_type": "markdown",
   "id": "9b8dc902",
   "metadata": {},
   "source": [
    "### Проведемо розрахунки з використанням k-Fold кросс-валідації та розіб'ємо виборку на 5 частин"
   ]
  },
  {
   "cell_type": "code",
   "execution_count": 49,
   "id": "daeae998",
   "metadata": {},
   "outputs": [
    {
     "data": {
      "text/plain": [
       "array([-0.22573437,  0.62535306, -0.08289785, -0.16796305,  0.30273973])"
      ]
     },
     "execution_count": 49,
     "metadata": {},
     "output_type": "execute_result"
    }
   ],
   "source": [
    "kfold = KFold(n_splits=5)\n",
    "score = cross_val_score(model, X, y, cv=kfold)\n",
    "score"
   ]
  },
  {
   "cell_type": "code",
   "execution_count": 50,
   "id": "9b7bb16e",
   "metadata": {},
   "outputs": [
    {
     "name": "stdout",
     "output_type": "stream",
     "text": [
      "Функція регресії має вигляд - Y=495.0632+-42.4414*X1+-0.0533*X2+-0.0063*X3+1189.0250*X4\n",
      "Достовірність моделі на тренувальних даних: Score= 0.6160\n",
      "Достовірність моделі на тестових даних: Score= -0.2257\n",
      "Достовірність моделі на повній виборці: Score= 0.6566\n",
      "mae = 51.002943\n",
      "mse_test = 4879.403398, mse_all = 4209.463034\n",
      "mrse= 69.852726\n",
      "\n",
      "Функція регресії має вигляд - Y=354.9385+-32.5960*X1+-0.0665*X2+-0.0024*X3+1338.5491*X4\n",
      "Достовірність моделі на тренувальних даних: Score= 0.6801\n",
      "Достовірність моделі на тестових даних: Score= 0.6254\n",
      "Достовірність моделі на повній виборці: Score= 0.6771\n",
      "mae = 57.571201\n",
      "mse_test = 4390.716011, mse_all = 3957.933213\n",
      "mrse= 66.262478\n",
      "\n",
      "Функція регресії має вигляд - Y=380.1415+-46.0102*X1+-0.0597*X2+-0.0037*X3+1433.3849*X4\n",
      "Достовірність моделі на тренувальних даних: Score= 0.7045\n",
      "Достовірність моделі на тестових даних: Score= -0.0829\n",
      "Достовірність моделі на повній виборці: Score= 0.6627\n",
      "mae = 51.957592\n",
      "mse_test = 3639.359791, mse_all = 4133.896954\n",
      "mrse= 60.327107\n",
      "\n",
      "Функція регресії має вигляд - Y=370.3875+-30.9129*X1+-0.0889*X2+-0.0009*X3+1461.5127*X4\n",
      "Достовірність моделі на тренувальних даних: Score= 0.7038\n",
      "Достовірність моделі на тестових даних: Score= -0.1680\n",
      "Достовірність моделі на повній виборці: Score= 0.6591\n",
      "mae = 53.684479\n",
      "mse_test = 4332.220086, mse_all = 4179.023678\n",
      "mrse= 65.819603\n",
      "\n",
      "Функція регресії має вигляд - Y=267.6396+-15.3018*X1+-0.0692*X2+0.0026*X3+1218.9958*X4\n",
      "Достовірність моделі на тренувальних даних: Score= 0.7190\n",
      "Достовірність моделі на тестових даних: Score= 0.3027\n",
      "Достовірність моделі на повній виборці: Score= 0.6350\n",
      "mae = 80.361758\n",
      "mse_test = 12820.825860, mse_all = 4473.527636\n",
      "mrse= 113.229086\n",
      "\n"
     ]
    }
   ],
   "source": [
    "for (train_index, test_index) in kfold.split(X):\n",
    "    X_train=X[train_index]\n",
    "    y_train=y[train_index]\n",
    "    X_test=X[test_index]\n",
    "    y_test=y[test_index]\n",
    "   \n",
    "    model.fit(X_train,y_train) \n",
    "    a=model.intercept_[0]\n",
    "    b=model.coef_[0]\n",
    "    print('Функція регресії має вигляд - Y={:.4f}+{:.4f}*X1+{:.4f}*X2+{:.4f}*X3+{:.4f}*X4'.format(a,b[0],b[1],b[2],b[3]))\n",
    "    print('Достовірність моделі на тренувальних даних: Score= {:.4f}'.format(model.score(X_train, y_train)))\n",
    "    print('Достовірність моделі на тестових даних: Score= {:.4f}'.format(model.score(X_test, y_test)))\n",
    "    print('Достовірність моделі на повній виборці: Score= {:.4f}'.format(model.score(X, y)))\n",
    "    y_pred=model.predict(X_test)\n",
    "    y_pred_all=model.predict(X)\n",
    "    print(f'mae = {mean_absolute_error(y_test,y_pred):4f}' )\n",
    "    print(f'mse_test = {mean_squared_error(y_test,y_pred):4f}, mse_all = {mean_squared_error(y,y_pred_all):4f}')\n",
    "    mrse=mean_squared_error(y_test,y_pred)**0.5\n",
    "    print(f'mrse= {mrse:4f}\\n')"
   ]
  },
  {
   "cell_type": "markdown",
   "id": "fb9cbec4",
   "metadata": {},
   "source": [
    "### Побудуємо модель стратифікованої К-кратної крос-валідації із застосуванням классу StratifiedKFold (n_splits=2)"
   ]
  },
  {
   "cell_type": "code",
   "execution_count": 51,
   "id": "5aa16127",
   "metadata": {},
   "outputs": [
    {
     "name": "stdout",
     "output_type": "stream",
     "text": [
      "Функція регресії має вигляд - Y=33.6870+-22.9554*X1+-0.0382*X2+0.0013*X3+1497.9061*X4\n",
      "Достовірність моделі на тренувальних даних: Score= 0.8076\n",
      "Достовірність моделі на тестових даних: Score= 0.4225\n",
      "Достовірність моделі на повній виборці: Score= 0.6077\n",
      "mae = 65.308619\n",
      "mse_test = 7368.980181, mse_all = 4808.985977\n",
      "mrse= 85.842764\n",
      "\n",
      "Функція регресії має вигляд - Y=473.0360+-42.3506*X1+-0.1032*X2+-0.0092*X3+1635.3265*X4\n",
      "Достовірність моделі на тренувальних даних: Score= 0.6752\n",
      "Достовірність моделі на тестових даних: Score= 0.4384\n",
      "Достовірність моделі на повній виборці: Score= 0.5631\n",
      "mae = 66.606983\n",
      "mse_test = 6566.486980, mse_all = 5355.365759\n",
      "mrse= 81.033863\n",
      "\n"
     ]
    },
    {
     "name": "stderr",
     "output_type": "stream",
     "text": [
      "C:\\Python\\Python310\\lib\\site-packages\\sklearn\\model_selection\\_split.py:700: UserWarning: The least populated class in y has only 1 members, which is less than n_splits=2.\n",
      "  warnings.warn(\n"
     ]
    }
   ],
   "source": [
    "skf = StratifiedKFold(n_splits=2)\n",
    "for (train_index, test_index) in skf.split(X,y):\n",
    "    X_train=X[train_index]\n",
    "    y_train=y[train_index]\n",
    "    X_test=X[test_index]\n",
    "    y_test=y[test_index]\n",
    "   \n",
    "    model.fit(X_train,y_train) \n",
    "    a=model.intercept_[0]\n",
    "    b=model.coef_[0]\n",
    "    print('Функція регресії має вигляд - Y={:.4f}+{:.4f}*X1+{:.4f}*X2+{:.4f}*X3+{:.4f}*X4'.format(a,b[0],b[1],b[2],b[3]))\n",
    "    print('Достовірність моделі на тренувальних даних: Score= {:.4f}'.format(model.score(X_train, y_train)))\n",
    "    print('Достовірність моделі на тестових даних: Score= {:.4f}'.format(model.score(X_test, y_test)))\n",
    "    print('Достовірність моделі на повній виборці: Score= {:.4f}'.format(model.score(X, y)))\n",
    "    y_pred=model.predict(X_test)\n",
    "    y_pred_all=model.predict(X)\n",
    "    print(f'mae = {mean_absolute_error(y_test,y_pred):4f}' )\n",
    "    print(f'mse_test = {mean_squared_error(y_test,y_pred):4f}, mse_all = {mean_squared_error(y,y_pred_all):4f}')\n",
    "    mrse=mean_squared_error(y_test,y_pred)**0.5\n",
    "    print(f'mrse= {mrse:4f}\\n')"
   ]
  },
  {
   "cell_type": "markdown",
   "id": "82b41de9",
   "metadata": {},
   "source": [
    "### Висновки\n",
    "\n",
    "#### З усих застосованих методів найкращі показники отримали при  використанні п'ятикратної крос-валідації. Найбільш вдалою є модель, отримана на другому етапі розбивки даних.\n",
    "\n",
    "Функція регресії має вигляд - Y=354.9385+-32.5960*X1+-0.0665*X2+-0.0024*X3+1338.5491*X4  \n",
    "Достовірність моделі на тренувальних даних: Score= 0.6801  \n",
    "Достовірність моделі на тестових даних: Score= 0.6254  \n",
    "Достовірність моделі на повній виборці: Score= 0.6771  \n",
    "mae = 57.571201  \n",
    "mse_test = 4390.716011, mse_all = 3957.933213  \n",
    "mrse= 66.262478  \n",
    "\n",
    "####  Достовірність моделі дуже низька, тому модель не може бути використана у практичних розрахунках.\n"
   ]
  },
  {
   "cell_type": "code",
   "execution_count": null,
   "id": "a4f0a74f",
   "metadata": {},
   "outputs": [],
   "source": []
  }
 ],
 "metadata": {
  "kernelspec": {
   "display_name": "Python 3 (ipykernel)",
   "language": "python",
   "name": "python3"
  },
  "language_info": {
   "codemirror_mode": {
    "name": "ipython",
    "version": 3
   },
   "file_extension": ".py",
   "mimetype": "text/x-python",
   "name": "python",
   "nbconvert_exporter": "python",
   "pygments_lexer": "ipython3",
   "version": "3.10.8"
  }
 },
 "nbformat": 4,
 "nbformat_minor": 5
}
