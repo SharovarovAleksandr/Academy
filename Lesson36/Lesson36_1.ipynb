{
 "cells": [
  {
   "cell_type": "markdown",
   "id": "20d1d3c9",
   "metadata": {},
   "source": [
    "### Завдання 1\n",
    "Проведіть крос-валідацію для моделі, побудованої на основі датафрейму  student_scores. Обґрунтуйте обраний метод крос-валідації.\n"
   ]
  },
  {
   "cell_type": "code",
   "execution_count": 1,
   "id": "afa7e39d",
   "metadata": {},
   "outputs": [],
   "source": [
    "import pandas as pd\n",
    "import numpy as np\n",
    "import sklearn\n",
    "import openpyxl\n",
    "import matplotlib.pyplot as plt\n",
    "from sklearn.linear_model import LinearRegression\n",
    "from sklearn.model_selection import KFold, StratifiedKFold, cross_val_score\n",
    "from sklearn.model_selection import train_test_split\n",
    "from sklearn.metrics import mean_absolute_error, mean_squared_error"
   ]
  },
  {
   "cell_type": "code",
   "execution_count": 2,
   "id": "28325b9a",
   "metadata": {},
   "outputs": [
    {
     "data": {
      "text/html": [
       "<div>\n",
       "<style scoped>\n",
       "    .dataframe tbody tr th:only-of-type {\n",
       "        vertical-align: middle;\n",
       "    }\n",
       "\n",
       "    .dataframe tbody tr th {\n",
       "        vertical-align: top;\n",
       "    }\n",
       "\n",
       "    .dataframe thead th {\n",
       "        text-align: right;\n",
       "    }\n",
       "</style>\n",
       "<table border=\"1\" class=\"dataframe\">\n",
       "  <thead>\n",
       "    <tr style=\"text-align: right;\">\n",
       "      <th></th>\n",
       "      <th>Hours</th>\n",
       "      <th>Scores</th>\n",
       "    </tr>\n",
       "  </thead>\n",
       "  <tbody>\n",
       "    <tr>\n",
       "      <th>0</th>\n",
       "      <td>2.5</td>\n",
       "      <td>21</td>\n",
       "    </tr>\n",
       "    <tr>\n",
       "      <th>1</th>\n",
       "      <td>5.1</td>\n",
       "      <td>47</td>\n",
       "    </tr>\n",
       "    <tr>\n",
       "      <th>2</th>\n",
       "      <td>3.2</td>\n",
       "      <td>27</td>\n",
       "    </tr>\n",
       "    <tr>\n",
       "      <th>3</th>\n",
       "      <td>8.5</td>\n",
       "      <td>75</td>\n",
       "    </tr>\n",
       "    <tr>\n",
       "      <th>4</th>\n",
       "      <td>3.5</td>\n",
       "      <td>30</td>\n",
       "    </tr>\n",
       "    <tr>\n",
       "      <th>5</th>\n",
       "      <td>1.5</td>\n",
       "      <td>20</td>\n",
       "    </tr>\n",
       "    <tr>\n",
       "      <th>6</th>\n",
       "      <td>9.2</td>\n",
       "      <td>88</td>\n",
       "    </tr>\n",
       "    <tr>\n",
       "      <th>7</th>\n",
       "      <td>5.5</td>\n",
       "      <td>60</td>\n",
       "    </tr>\n",
       "    <tr>\n",
       "      <th>8</th>\n",
       "      <td>8.3</td>\n",
       "      <td>81</td>\n",
       "    </tr>\n",
       "    <tr>\n",
       "      <th>9</th>\n",
       "      <td>2.7</td>\n",
       "      <td>25</td>\n",
       "    </tr>\n",
       "    <tr>\n",
       "      <th>10</th>\n",
       "      <td>7.7</td>\n",
       "      <td>85</td>\n",
       "    </tr>\n",
       "    <tr>\n",
       "      <th>11</th>\n",
       "      <td>5.9</td>\n",
       "      <td>62</td>\n",
       "    </tr>\n",
       "    <tr>\n",
       "      <th>12</th>\n",
       "      <td>4.5</td>\n",
       "      <td>41</td>\n",
       "    </tr>\n",
       "    <tr>\n",
       "      <th>13</th>\n",
       "      <td>3.3</td>\n",
       "      <td>42</td>\n",
       "    </tr>\n",
       "    <tr>\n",
       "      <th>14</th>\n",
       "      <td>1.1</td>\n",
       "      <td>17</td>\n",
       "    </tr>\n",
       "    <tr>\n",
       "      <th>15</th>\n",
       "      <td>8.9</td>\n",
       "      <td>95</td>\n",
       "    </tr>\n",
       "    <tr>\n",
       "      <th>16</th>\n",
       "      <td>2.5</td>\n",
       "      <td>30</td>\n",
       "    </tr>\n",
       "    <tr>\n",
       "      <th>17</th>\n",
       "      <td>1.9</td>\n",
       "      <td>24</td>\n",
       "    </tr>\n",
       "    <tr>\n",
       "      <th>18</th>\n",
       "      <td>6.1</td>\n",
       "      <td>67</td>\n",
       "    </tr>\n",
       "    <tr>\n",
       "      <th>19</th>\n",
       "      <td>7.4</td>\n",
       "      <td>69</td>\n",
       "    </tr>\n",
       "    <tr>\n",
       "      <th>20</th>\n",
       "      <td>2.7</td>\n",
       "      <td>30</td>\n",
       "    </tr>\n",
       "    <tr>\n",
       "      <th>21</th>\n",
       "      <td>4.8</td>\n",
       "      <td>54</td>\n",
       "    </tr>\n",
       "    <tr>\n",
       "      <th>22</th>\n",
       "      <td>3.8</td>\n",
       "      <td>35</td>\n",
       "    </tr>\n",
       "    <tr>\n",
       "      <th>23</th>\n",
       "      <td>6.9</td>\n",
       "      <td>76</td>\n",
       "    </tr>\n",
       "    <tr>\n",
       "      <th>24</th>\n",
       "      <td>7.8</td>\n",
       "      <td>86</td>\n",
       "    </tr>\n",
       "  </tbody>\n",
       "</table>\n",
       "</div>"
      ],
      "text/plain": [
       "    Hours  Scores\n",
       "0     2.5      21\n",
       "1     5.1      47\n",
       "2     3.2      27\n",
       "3     8.5      75\n",
       "4     3.5      30\n",
       "5     1.5      20\n",
       "6     9.2      88\n",
       "7     5.5      60\n",
       "8     8.3      81\n",
       "9     2.7      25\n",
       "10    7.7      85\n",
       "11    5.9      62\n",
       "12    4.5      41\n",
       "13    3.3      42\n",
       "14    1.1      17\n",
       "15    8.9      95\n",
       "16    2.5      30\n",
       "17    1.9      24\n",
       "18    6.1      67\n",
       "19    7.4      69\n",
       "20    2.7      30\n",
       "21    4.8      54\n",
       "22    3.8      35\n",
       "23    6.9      76\n",
       "24    7.8      86"
      ]
     },
     "execution_count": 2,
     "metadata": {},
     "output_type": "execute_result"
    }
   ],
   "source": [
    "df=pd.read_csv('student_scores.csv')\n",
    "df"
   ]
  },
  {
   "cell_type": "code",
   "execution_count": 3,
   "id": "bdd048ef",
   "metadata": {},
   "outputs": [],
   "source": [
    "X=np.array(df[['Hours']])\n",
    "y=np.array(df[['Scores']])\n"
   ]
  },
  {
   "cell_type": "markdown",
   "id": "3988059a",
   "metadata": {},
   "source": [
    "#### Використаємо k-Fold кросс-валідацію та розіб'ємо виборку на 5 частин"
   ]
  },
  {
   "cell_type": "code",
   "execution_count": 4,
   "id": "e4dfacb0",
   "metadata": {},
   "outputs": [],
   "source": [
    "model = LinearRegression()\n",
    "kfold = KFold(n_splits=5)"
   ]
  },
  {
   "cell_type": "markdown",
   "id": "13365e41",
   "metadata": {},
   "source": [
    "#### Відоразимо виборку на графіку"
   ]
  },
  {
   "cell_type": "code",
   "execution_count": 5,
   "id": "c2e281a7",
   "metadata": {},
   "outputs": [
    {
     "data": {
      "image/png": "[encoded data removed]",
      "text/plain": [
       "<Figure size 640x480 with 1 Axes>"
      ]
     },
     "metadata": {},
     "output_type": "display_data"
    }
   ],
   "source": [
    "fig = plt.figure()\n",
    "ax = fig.add_subplot(111)\n",
    "ax.set(title = 'Dependence Hours-Scores',\n",
    "       xlabel = 'Hours',\n",
    "       ylabel = 'Scores')\n",
    "ax.scatter(df['Hours'],df['Scores'])\n",
    "ax.grid()"
   ]
  },
  {
   "cell_type": "markdown",
   "id": "98d7070e",
   "metadata": {},
   "source": [
    "#### Побудуємо 5 моделей регресій, в залежності від виборки та відобразимо їх на графіку."
   ]
  },
  {
   "cell_type": "code",
   "execution_count": 6,
   "id": "ecf95f95",
   "metadata": {},
   "outputs": [
    {
     "name": "stdout",
     "output_type": "stream",
     "text": [
      "Функція лінійної регресії має вигляд - Y=9.7456*X+4.4040 \n",
      "Достовірність моделі на тренувальних даних: Score= 0.9688\n",
      "Достовірність моделі на тестових даних: Score= 0.7863\n",
      "Достовірність моделі на повній виборці: Score= 0.9478\n",
      "mae = 8.843755\n",
      "mse_test = 81.390570, mse_all = 32.016807\n",
      "mrse= 9.021672\n",
      "\n",
      "Функція лінійної регресії має вигляд - Y=10.0276*X+1.4646 \n",
      "Достовірність моделі на тренувальних даних: Score= 0.9427\n",
      "Достовірність моделі на тестових даних: Score= 0.9789\n",
      "Достовірність моделі на повній виборці: Score= 0.9522\n",
      "mae = 3.965785\n",
      "mse_test = 16.505402, mse_all = 29.329835\n",
      "mrse= 4.062684\n",
      "\n",
      "Функція лінійної регресії має вигляд - Y=9.8163*X+1.5442 \n",
      "Достовірність моделі на тренувальних даних: Score= 0.9561\n",
      "Достовірність моделі на тестових даних: Score= 0.9318\n",
      "Достовірність моделі на повній виборці: Score= 0.9520\n",
      "mae = 5.569461\n",
      "mse_test = 35.467532, mse_all = 29.435185\n",
      "mrse= 5.955462\n",
      "\n",
      "Функція лінійної регресії має вигляд - Y=9.8031*X+1.8200 \n",
      "Достовірність моделі на тренувальних даних: Score= 0.9476\n",
      "Достовірність моделі на тестових даних: Score= 0.9660\n",
      "Достовірність моделі на повній виборці: Score= 0.9525\n",
      "mae = 4.780693\n",
      "mse_test = 23.806923, mse_all = 29.165146\n",
      "mrse= 4.879234\n",
      "\n",
      "Функція лінійної регресії має вигляд - Y=9.5204*X+3.0313 \n",
      "Достовірність моделі на тренувальних даних: Score= 0.9555\n",
      "Достовірність моделі на тестових даних: Score= 0.9273\n",
      "Достовірність моделі на повній виборці: Score= 0.9514\n",
      "mae = 5.346209\n",
      "mse_test = 35.184296, mse_all = 29.818673\n",
      "mrse= 5.931635\n",
      "\n"
     ]
    },
    {
     "name": "stderr",
     "output_type": "stream",
     "text": [
      "C:\\Python\\Python310\\lib\\site-packages\\numpy\\core\\shape_base.py:65: VisibleDeprecationWarning: Creating an ndarray from ragged nested sequences (which is a list-or-tuple of lists-or-tuples-or ndarrays with different lengths or shapes) is deprecated. If you meant to do this, you must specify 'dtype=object' when creating the ndarray.\n",
      "  ary = asanyarray(ary)\n",
      "C:\\Python\\Python310\\lib\\site-packages\\numpy\\core\\shape_base.py:65: VisibleDeprecationWarning: Creating an ndarray from ragged nested sequences (which is a list-or-tuple of lists-or-tuples-or ndarrays with different lengths or shapes) is deprecated. If you meant to do this, you must specify 'dtype=object' when creating the ndarray.\n",
      "  ary = asanyarray(ary)\n",
      "C:\\Python\\Python310\\lib\\site-packages\\numpy\\core\\shape_base.py:65: VisibleDeprecationWarning: Creating an ndarray from ragged nested sequences (which is a list-or-tuple of lists-or-tuples-or ndarrays with different lengths or shapes) is deprecated. If you meant to do this, you must specify 'dtype=object' when creating the ndarray.\n",
      "  ary = asanyarray(ary)\n",
      "C:\\Python\\Python310\\lib\\site-packages\\numpy\\core\\shape_base.py:65: VisibleDeprecationWarning: Creating an ndarray from ragged nested sequences (which is a list-or-tuple of lists-or-tuples-or ndarrays with different lengths or shapes) is deprecated. If you meant to do this, you must specify 'dtype=object' when creating the ndarray.\n",
      "  ary = asanyarray(ary)\n",
      "C:\\Python\\Python310\\lib\\site-packages\\numpy\\core\\shape_base.py:65: VisibleDeprecationWarning: Creating an ndarray from ragged nested sequences (which is a list-or-tuple of lists-or-tuples-or ndarrays with different lengths or shapes) is deprecated. If you meant to do this, you must specify 'dtype=object' when creating the ndarray.\n",
      "  ary = asanyarray(ary)\n"
     ]
    },
    {
     "data": {
      "image/png": "[encoded data removed]",
      "text/plain": [
       "<Figure size 640x480 with 1 Axes>"
      ]
     },
     "metadata": {},
     "output_type": "display_data"
    }
   ],
   "source": [
    "fig = plt.figure()\n",
    "ax = fig.add_subplot(111)\n",
    "ax.set(title = 'Dependence Hours-Scores',\n",
    "       xlabel = 'Hours',\n",
    "       ylabel = 'Scores')\n",
    "ax.scatter(df['Hours'],df['Scores'])\n",
    "ax.grid()\n",
    "\n",
    "for (train_index, test_index) in kfold.split(X):\n",
    "    X_train=X[train_index]\n",
    "    y_train=y[train_index]\n",
    "    X_test=X[test_index]\n",
    "    y_test=y[test_index]\n",
    "   \n",
    "    model.fit(X_train,y_train) \n",
    "    a=model.intercept_[0]\n",
    "    b=model.coef_[0][0]\n",
    "    print('Функція лінійної регресії має вигляд - Y={:.4f}*X+{:.4f} '.format(b,a))\n",
    "    print('Достовірність моделі на тренувальних даних: Score= {:.4f}'.format(model.score(X_train, y_train)))\n",
    "    print('Достовірність моделі на тестових даних: Score= {:.4f}'.format(model.score(X_test, y_test)))\n",
    "    print('Достовірність моделі на повній виборці: Score= {:.4f}'.format(model.score(X, y)))\n",
    "    y_pred=model.predict(X_test)\n",
    "    y_pred_all=model.predict(X)\n",
    "    print(f'mae = {mean_absolute_error(y_test,y_pred):4f}' )\n",
    "    print(f'mse_test = {mean_squared_error(y_test,y_pred):4f}, mse_all = {mean_squared_error(y,y_pred_all):4f}')\n",
    "    mrse=mean_squared_error(y_test,y_pred)**0.5\n",
    "    print(f'mrse= {mrse:4f}\\n')\n",
    "    \n",
    "    X_plt=[0,max(X_train)]\n",
    "    y_plt=[a,b*X_plt[1]+a]\n",
    "    ax.plot(X_plt,y_plt)\n"
   ]
  },
  {
   "cell_type": "markdown",
   "id": "61b80227",
   "metadata": {},
   "source": [
    "#### З графіків видно що всі моделі мають гарну кореляцію."
   ]
  },
  {
   "cell_type": "markdown",
   "id": "d340e5a5",
   "metadata": {},
   "source": [
    "\n",
    "\n",
    "#### Проведемо той самий розрахунок з використанням функції cross_val_score на повній виборці та вирахуємо середне значення Score  по п'яти моделям."
   ]
  },
  {
   "cell_type": "code",
   "execution_count": 9,
   "id": "a348c092",
   "metadata": {},
   "outputs": [
    {
     "name": "stdout",
     "output_type": "stream",
     "text": [
      "Score for K-fold: [0.78626426 0.97891923 0.93182467 0.96604831 0.9273292 ]\n",
      "Mean Score for fold:0.9180771341891051\n",
      "mae = 4.734839\n",
      "mse_test = 26.669258, mse_all = 28.882731\n",
      "mrse= 5.164229\n"
     ]
    }
   ],
   "source": [
    "model.fit(X,y)\n",
    "kfold = KFold(n_splits=5)\n",
    "score = cross_val_score(model, X, y, cv=kfold)\n",
    "print(f\"Score for K-fold: {score}\")\n",
    "print(f\"Mean Score for fold:{score.mean()}\")\n",
    "y_pred=model.predict(X_test)\n",
    "y_pred_all=model.predict(X)\n",
    "print(f'mae = {mean_absolute_error(y_test,y_pred):4f}' )\n",
    "print(f'mse_test = {mean_squared_error(y_test,y_pred):4f}, mse_all = {mean_squared_error(y,y_pred_all):4f}')\n",
    "mrse=mean_squared_error(y_test,y_pred)**0.5\n",
    "print(f'mrse= {mrse:4f}')"
   ]
  },
  {
   "cell_type": "markdown",
   "id": "f326760f",
   "metadata": {},
   "source": [
    "#### Проведемо аналогічні розрахунки для вибірки з використанням функції train_test_split та побудуємо різні моделі"
   ]
  },
  {
   "cell_type": "markdown",
   "id": "6370b6da",
   "metadata": {},
   "source": [
    "#### Модель1 з параметрами \n",
    "test_size=0.2  \n",
    "random_state=None  \n",
    "shuffle=True  \n",
    " "
   ]
  },
  {
   "cell_type": "code",
   "execution_count": 11,
   "id": "a0e1bc7d",
   "metadata": {},
   "outputs": [
    {
     "name": "stdout",
     "output_type": "stream",
     "text": [
      "Функція лінійної регресії має вигляд - Y=9.5850*X+2.6190 \n",
      "Достовірність моделі на тренувальних даних: Score= 0.9449\n",
      "Достовірність моделі на тестових даних: Score= 0.9622\n",
      "Достовірність моделі на повній виборці: Score= 0.9515\n",
      "mae = 4.574808\n",
      "mse_test = 32.096597, mse_all = 29.779651\n",
      "mrse= 5.665386\n",
      "\n"
     ]
    }
   ],
   "source": [
    "X_train, X_test, y_train, y_test = sklearn.model_selection.train_test_split(X, y, test_size=0.2)\n",
    "model.fit(X_train, y_train)\n",
    "a=model.intercept_[0]\n",
    "b=model.coef_[0][0]\n",
    "print('Функція лінійної регресії має вигляд - Y={:.4f}*X+{:.4f} '.format(b,a))\n",
    "print('Достовірність моделі на тренувальних даних: Score= {:.4f}'.format(model.score(X_train, y_train)))\n",
    "print('Достовірність моделі на тестових даних: Score= {:.4f}'.format(model.score(X_test, y_test)))\n",
    "print('Достовірність моделі на повній виборці: Score= {:.4f}'.format(model.score(X, y)))\n",
    "y_pred=model.predict(X_test)\n",
    "y_pred_all=model.predict(X)\n",
    "print(f'mae = {mean_absolute_error(y_test,y_pred):4f}' )\n",
    "print(f'mse_test = {mean_squared_error(y_test,y_pred):4f}, mse_all = {mean_squared_error(y,y_pred_all):4f}')\n",
    "mrse=mean_squared_error(y_test,y_pred)**0.5\n",
    "print(f'mrse= {mrse:4f}\\n')"
   ]
  },
  {
   "cell_type": "markdown",
   "id": "8adb4bbc",
   "metadata": {},
   "source": [
    "#### Модель 2 з параметрами\n",
    "test_size=0.2  \n",
    "random_state=25  \n",
    "shuffle=True  \n"
   ]
  },
  {
   "cell_type": "code",
   "execution_count": 12,
   "id": "d604622a",
   "metadata": {},
   "outputs": [
    {
     "name": "stdout",
     "output_type": "stream",
     "text": [
      "Функція лінійної регресії має вигляд - Y=9.5416*X+3.5066 \n",
      "Достовірність моделі на тренувальних даних: Score= 0.9527\n",
      "Достовірність моделі на тестових даних: Score= 0.9435\n",
      "Достовірність моделі на повній виборці: Score= 0.9524\n",
      "mae = 5.277957\n",
      "mse_test = 31.954415, mse_all = 29.241238\n",
      "mrse= 5.652824\n",
      "\n"
     ]
    }
   ],
   "source": [
    "X_train, X_test, y_train, y_test = sklearn.model_selection.train_test_split(X, y, test_size=0.2, random_state=25)\n",
    "model.fit(X_train, y_train)\n",
    "a=model.intercept_[0]\n",
    "b=model.coef_[0][0]\n",
    "print('Функція лінійної регресії має вигляд - Y={:.4f}*X+{:.4f} '.format(b,a))\n",
    "\n",
    "print('Достовірність моделі на тренувальних даних: Score= {:.4f}'.format(model.score(X_train, y_train)))\n",
    "print('Достовірність моделі на тестових даних: Score= {:.4f}'.format(model.score(X_test, y_test)))\n",
    "print('Достовірність моделі на повній виборці: Score= {:.4f}'.format(model.score(X, y)))\n",
    "y_pred=model.predict(X_test)\n",
    "y_pred_all=model.predict(X)\n",
    "print(f'mae = {mean_absolute_error(y_test,y_pred):4f}' )\n",
    "print(f'mse_test = {mean_squared_error(y_test,y_pred):4f}, mse_all = {mean_squared_error(y,y_pred_all):4f}')\n",
    "mrse=mean_squared_error(y_test,y_pred)**0.5\n",
    "print(f'mrse= {mrse:4f}\\n')\n"
   ]
  },
  {
   "cell_type": "markdown",
   "id": "d2d2bba6",
   "metadata": {},
   "source": [
    "#### Модель 3 з параметрами\n",
    "test_size=0.2    \n",
    "random_state=None    \n",
    "shuffle=False   \n",
    "   "
   ]
  },
  {
   "cell_type": "code",
   "execution_count": 13,
   "id": "b69effbf",
   "metadata": {},
   "outputs": [
    {
     "name": "stdout",
     "output_type": "stream",
     "text": [
      "Функція лінійної регресії має вигляд - Y=9.5204*X+3.0313 \n",
      "Достовірність моделі на тренувальних даних: Score= 0.9555\n",
      "Достовірність моделі на тестових даних: Score= 0.9273\n",
      "Достовірність моделі на повній виборці: Score= 0.9514\n",
      "mae = 5.346209\n",
      "mse_test = 35.184296, mse_all = 29.818673\n",
      "mrse= 5.931635\n",
      "\n"
     ]
    }
   ],
   "source": [
    "X_train, X_test, y_train, y_test = sklearn.model_selection.train_test_split(X, y, test_size=0.2, shuffle=False)\n",
    "model.fit(X_train, y_train)\n",
    "a=model.intercept_[0]\n",
    "b=model.coef_[0][0]\n",
    "print('Функція лінійної регресії має вигляд - Y={:.4f}*X+{:.4f} '.format(b,a))\n",
    "\n",
    "print('Достовірність моделі на тренувальних даних: Score= {:.4f}'.format(model.score(X_train, y_train)))\n",
    "print('Достовірність моделі на тестових даних: Score= {:.4f}'.format(model.score(X_test, y_test)))\n",
    "print('Достовірність моделі на повній виборці: Score= {:.4f}'.format(model.score(X, y)))\n",
    "y_pred=model.predict(X_test)\n",
    "y_pred_all=model.predict(X)\n",
    "print(f'mae = {mean_absolute_error(y_test,y_pred):4f}' )\n",
    "print(f'mse_test = {mean_squared_error(y_test,y_pred):4f}, mse_all = {mean_squared_error(y,y_pred_all):4f}')\n",
    "mrse=mean_squared_error(y_test,y_pred)**0.5\n",
    "print(f'mrse= {mrse:4f}\\n')\n"
   ]
  },
  {
   "cell_type": "markdown",
   "id": "1735792c",
   "metadata": {},
   "source": [
    "#### Побудуємо модель стратифікованої К-кратної крос-валідації із застосуванням классу  StratifiedKFold (n_splits=3)\n"
   ]
  },
  {
   "cell_type": "code",
   "execution_count": 28,
   "id": "47205914",
   "metadata": {},
   "outputs": [
    {
     "name": "stdout",
     "output_type": "stream",
     "text": [
      "Функція лінійної регресії має вигляд - Y=9.7053*X+2.2196 \n",
      "Достовірність моделі на тренувальних даних: Score= 0.9683\n",
      "Достовірність моделі на тестових даних: Score= 0.9205\n",
      "Достовірність моделі на повній виборці: Score= 0.9523\n",
      "mae = 6.467004\n",
      "mse_test = 45.601427, mse_all = 29.294082\n",
      "mrse= 6.752883\n",
      "\n",
      "Функція лінійної регресії має вигляд - Y=10.0705*X+0.6816 \n",
      "Достовірність моделі на тренувальних даних: Score= 0.9459\n",
      "Достовірність моделі на тестових даних: Score= 0.9628\n",
      "Достовірність моделі на повній виборці: Score= 0.9519\n",
      "mae = 4.080477\n",
      "mse_test = 17.696063, mse_all = 29.519960\n",
      "mrse= 4.206669\n",
      "\n",
      "Функція лінійної регресії має вигляд - Y=9.5914*X+4.1532 \n",
      "Достовірність моделі на тренувальних даних: Score= 0.9465\n",
      "Достовірність моделі на тестових даних: Score= 0.9577\n",
      "Достовірність моделі на повній виборці: Score= 0.9517\n",
      "mae = 5.116703\n",
      "mse_test = 30.748423, mse_all = 29.646477\n",
      "mrse= 5.545126\n",
      "\n"
     ]
    },
    {
     "name": "stderr",
     "output_type": "stream",
     "text": [
      "C:\\Python\\Python310\\lib\\site-packages\\sklearn\\model_selection\\_split.py:700: UserWarning: The least populated class in y has only 1 members, which is less than n_splits=3.\n",
      "  warnings.warn(\n"
     ]
    }
   ],
   "source": [
    "model.fit(X,y)\n",
    "skf = StratifiedKFold(n_splits=3)\n",
    "for (train_index, test_index) in skf.split(X,y):\n",
    "    X_train=X[train_index]\n",
    "    y_train=y[train_index]\n",
    "    X_test=X[test_index]\n",
    "    y_test=y[test_index]\n",
    "   \n",
    "    model.fit(X_train,y_train) \n",
    "    a=model.intercept_[0]\n",
    "    b=model.coef_[0][0]\n",
    "    print('Функція лінійної регресії має вигляд - Y={:.4f}*X+{:.4f} '.format(b,a))\n",
    "    print('Достовірність моделі на тренувальних даних: Score= {:.4f}'.format(model.score(X_train, y_train)))\n",
    "    print('Достовірність моделі на тестових даних: Score= {:.4f}'.format(model.score(X_test, y_test)))\n",
    "    print('Достовірність моделі на повній виборці: Score= {:.4f}'.format(model.score(X, y)))\n",
    "    y_pred=model.predict(X_test)\n",
    "    y_pred_all=model.predict(X)\n",
    "    print(f'mae = {mean_absolute_error(y_test,y_pred):4f}' )\n",
    "    print(f'mse_test = {mean_squared_error(y_test,y_pred):4f}, mse_all = {mean_squared_error(y,y_pred_all):4f}')\n",
    "    mrse=mean_squared_error(y_test,y_pred)**0.5\n",
    "    print(f'mrse= {mrse:4f}\\n')"
   ]
  },
  {
   "cell_type": "markdown",
   "id": "539115ca",
   "metadata": {},
   "source": [
    "### Висновки\n",
    "\n",
    "#### Всі застосовані моделі показують високі коефіцієнти достовірності, що свідчить про те, що побудована модель є надійною та може застосовуватися у подальших прогностичних розрахунках.\n",
    "#### З отриманих розрахунків можна зробити висновок, що з усих застосованих методів найкращі показники ми отримали із використанням п'ятикратної крос-валідації. Найбільш вдалою є модель, отримана на другому етапі розбивки даних.\n",
    "\n",
    "Оптимальна функція лінійної регресії має вигляд  $y=10.027x+1.4646$ \n",
    "\n",
    "Достовірність моделі на тренувальних даних: Score= 0.9427  \n",
    "Достовірність моделі на тестових даних: Score= 0.9789  \n",
    "Достовірність моделі на повній виборці: Score= 0.9522  \n",
    "mae = 3.965785  \n",
    "mse_test = 16.505402, mse_all = 29.329835  \n",
    "mrse= 4.062684  "
   ]
  },
  {
   "cell_type": "code",
   "execution_count": null,
   "id": "b67ef43d",
   "metadata": {},
   "outputs": [],
   "source": []
  }
 ],
 "metadata": {
  "kernelspec": {
   "display_name": "Python 3 (ipykernel)",
   "language": "python",
   "name": "python3"
  },
  "language_info": {
   "codemirror_mode": {
    "name": "ipython",
    "version": 3
   },
   "file_extension": ".py",
   "mimetype": "text/x-python",
   "name": "python",
   "nbconvert_exporter": "python",
   "pygments_lexer": "ipython3",
   "version": "3.10.8"
  }
 },
 "nbformat": 4,
 "nbformat_minor": 5
}
